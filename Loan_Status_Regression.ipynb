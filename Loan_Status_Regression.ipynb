{
 "cells": [
  {
   "cell_type": "markdown",
   "id": "d55634b4",
   "metadata": {},
   "source": [
    "# Read Dataset"
   ]
  },
  {
   "cell_type": "markdown",
   "id": "0b44ee35",
   "metadata": {},
   "source": [
    "# 1.Check eligibility of the Customer given the inputs described above.(Classification)"
   ]
  },
  {
   "cell_type": "code",
   "execution_count": 1,
   "id": "68abb03d",
   "metadata": {},
   "outputs": [],
   "source": [
    "from warnings import filterwarnings\n",
    "filterwarnings(\"ignore\")"
   ]
  },
  {
   "cell_type": "code",
   "execution_count": 2,
   "id": "ed94d2c5",
   "metadata": {},
   "outputs": [],
   "source": [
    "import os\n",
    "os.chdir(\"/Users/I A T Laptop L.L.C/Desktop/Project-II\")"
   ]
  },
  {
   "cell_type": "code",
   "execution_count": 3,
   "id": "676dd82c",
   "metadata": {},
   "outputs": [],
   "source": [
    "import pandas as pd\n",
    "A = pd.read_csv(\"training_set (1).csv\")"
   ]
  },
  {
   "cell_type": "code",
   "execution_count": 4,
   "id": "68fe618c",
   "metadata": {},
   "outputs": [
    {
     "data": {
      "text/html": [
       "<div>\n",
       "<style scoped>\n",
       "    .dataframe tbody tr th:only-of-type {\n",
       "        vertical-align: middle;\n",
       "    }\n",
       "\n",
       "    .dataframe tbody tr th {\n",
       "        vertical-align: top;\n",
       "    }\n",
       "\n",
       "    .dataframe thead th {\n",
       "        text-align: right;\n",
       "    }\n",
       "</style>\n",
       "<table border=\"1\" class=\"dataframe\">\n",
       "  <thead>\n",
       "    <tr style=\"text-align: right;\">\n",
       "      <th></th>\n",
       "      <th>Loan_ID</th>\n",
       "      <th>Gender</th>\n",
       "      <th>Married</th>\n",
       "      <th>Dependents</th>\n",
       "      <th>Education</th>\n",
       "      <th>Self_Employed</th>\n",
       "      <th>ApplicantIncome</th>\n",
       "      <th>CoapplicantIncome</th>\n",
       "      <th>LoanAmount</th>\n",
       "      <th>Loan_Amount_Term</th>\n",
       "      <th>Credit_History</th>\n",
       "      <th>Property_Area</th>\n",
       "      <th>Loan_Status</th>\n",
       "    </tr>\n",
       "  </thead>\n",
       "  <tbody>\n",
       "    <tr>\n",
       "      <th>0</th>\n",
       "      <td>LP001002</td>\n",
       "      <td>Male</td>\n",
       "      <td>No</td>\n",
       "      <td>0</td>\n",
       "      <td>Graduate</td>\n",
       "      <td>No</td>\n",
       "      <td>5849.0</td>\n",
       "      <td>0.0</td>\n",
       "      <td>NaN</td>\n",
       "      <td>360.0</td>\n",
       "      <td>1.0</td>\n",
       "      <td>Urban</td>\n",
       "      <td>Y</td>\n",
       "    </tr>\n",
       "    <tr>\n",
       "      <th>1</th>\n",
       "      <td>LP001003</td>\n",
       "      <td>Male</td>\n",
       "      <td>Yes</td>\n",
       "      <td>1</td>\n",
       "      <td>Graduate</td>\n",
       "      <td>No</td>\n",
       "      <td>NaN</td>\n",
       "      <td>1508.0</td>\n",
       "      <td>128.0</td>\n",
       "      <td>360.0</td>\n",
       "      <td>1.0</td>\n",
       "      <td>Rural</td>\n",
       "      <td>N</td>\n",
       "    </tr>\n",
       "    <tr>\n",
       "      <th>2</th>\n",
       "      <td>LP001005</td>\n",
       "      <td>Male</td>\n",
       "      <td>Yes</td>\n",
       "      <td>0</td>\n",
       "      <td>Graduate</td>\n",
       "      <td>Yes</td>\n",
       "      <td>3000.0</td>\n",
       "      <td>0.0</td>\n",
       "      <td>66.0</td>\n",
       "      <td>360.0</td>\n",
       "      <td>1.0</td>\n",
       "      <td>Urban</td>\n",
       "      <td>Y</td>\n",
       "    </tr>\n",
       "    <tr>\n",
       "      <th>3</th>\n",
       "      <td>LP001006</td>\n",
       "      <td>Male</td>\n",
       "      <td>Yes</td>\n",
       "      <td>0</td>\n",
       "      <td>Not Graduate</td>\n",
       "      <td>No</td>\n",
       "      <td>2583.0</td>\n",
       "      <td>2358.0</td>\n",
       "      <td>120.0</td>\n",
       "      <td>360.0</td>\n",
       "      <td>1.0</td>\n",
       "      <td>Urban</td>\n",
       "      <td>Y</td>\n",
       "    </tr>\n",
       "    <tr>\n",
       "      <th>4</th>\n",
       "      <td>LP001008</td>\n",
       "      <td>Male</td>\n",
       "      <td>No</td>\n",
       "      <td>0</td>\n",
       "      <td>Graduate</td>\n",
       "      <td>No</td>\n",
       "      <td>6000.0</td>\n",
       "      <td>0.0</td>\n",
       "      <td>141.0</td>\n",
       "      <td>360.0</td>\n",
       "      <td>1.0</td>\n",
       "      <td>Urban</td>\n",
       "      <td>Y</td>\n",
       "    </tr>\n",
       "  </tbody>\n",
       "</table>\n",
       "</div>"
      ],
      "text/plain": [
       "    Loan_ID Gender Married Dependents     Education Self_Employed  \\\n",
       "0  LP001002   Male      No          0      Graduate            No   \n",
       "1  LP001003   Male     Yes          1      Graduate            No   \n",
       "2  LP001005   Male     Yes          0      Graduate           Yes   \n",
       "3  LP001006   Male     Yes          0  Not Graduate            No   \n",
       "4  LP001008   Male      No          0      Graduate            No   \n",
       "\n",
       "   ApplicantIncome  CoapplicantIncome  LoanAmount  Loan_Amount_Term  \\\n",
       "0           5849.0                0.0         NaN             360.0   \n",
       "1              NaN             1508.0       128.0             360.0   \n",
       "2           3000.0                0.0        66.0             360.0   \n",
       "3           2583.0             2358.0       120.0             360.0   \n",
       "4           6000.0                0.0       141.0             360.0   \n",
       "\n",
       "   Credit_History Property_Area Loan_Status  \n",
       "0             1.0         Urban           Y  \n",
       "1             1.0         Rural           N  \n",
       "2             1.0         Urban           Y  \n",
       "3             1.0         Urban           Y  \n",
       "4             1.0         Urban           Y  "
      ]
     },
     "execution_count": 4,
     "metadata": {},
     "output_type": "execute_result"
    }
   ],
   "source": [
    "A.head(5)"
   ]
  },
  {
   "cell_type": "markdown",
   "id": "4abd093b",
   "metadata": {},
   "source": [
    "# Missing data treatment"
   ]
  },
  {
   "cell_type": "code",
   "execution_count": 5,
   "id": "1b29202c",
   "metadata": {},
   "outputs": [],
   "source": [
    "from PM8wd import replacer\n",
    "replacer(A)"
   ]
  },
  {
   "cell_type": "markdown",
   "id": "99784270",
   "metadata": {},
   "source": [
    "# Define X & Y"
   ]
  },
  {
   "cell_type": "code",
   "execution_count": 6,
   "id": "c24f8c2f",
   "metadata": {},
   "outputs": [],
   "source": [
    "Y = A[[\"Loan_Status\"]]\n",
    "X = A.drop(labels=[\"Loan_ID\",\"Loan_Status\"],axis=1)"
   ]
  },
  {
   "cell_type": "code",
   "execution_count": 7,
   "id": "086bb0c7",
   "metadata": {},
   "outputs": [
    {
     "data": {
      "text/html": [
       "<div>\n",
       "<style scoped>\n",
       "    .dataframe tbody tr th:only-of-type {\n",
       "        vertical-align: middle;\n",
       "    }\n",
       "\n",
       "    .dataframe tbody tr th {\n",
       "        vertical-align: top;\n",
       "    }\n",
       "\n",
       "    .dataframe thead th {\n",
       "        text-align: right;\n",
       "    }\n",
       "</style>\n",
       "<table border=\"1\" class=\"dataframe\">\n",
       "  <thead>\n",
       "    <tr style=\"text-align: right;\">\n",
       "      <th></th>\n",
       "      <th>Loan_Status</th>\n",
       "    </tr>\n",
       "  </thead>\n",
       "  <tbody>\n",
       "    <tr>\n",
       "      <th>0</th>\n",
       "      <td>Y</td>\n",
       "    </tr>\n",
       "    <tr>\n",
       "      <th>1</th>\n",
       "      <td>N</td>\n",
       "    </tr>\n",
       "  </tbody>\n",
       "</table>\n",
       "</div>"
      ],
      "text/plain": [
       "  Loan_Status\n",
       "0           Y\n",
       "1           N"
      ]
     },
     "execution_count": 7,
     "metadata": {},
     "output_type": "execute_result"
    }
   ],
   "source": [
    "Y.head(2)"
   ]
  },
  {
   "cell_type": "code",
   "execution_count": 8,
   "id": "5963b231",
   "metadata": {},
   "outputs": [
    {
     "data": {
      "text/html": [
       "<div>\n",
       "<style scoped>\n",
       "    .dataframe tbody tr th:only-of-type {\n",
       "        vertical-align: middle;\n",
       "    }\n",
       "\n",
       "    .dataframe tbody tr th {\n",
       "        vertical-align: top;\n",
       "    }\n",
       "\n",
       "    .dataframe thead th {\n",
       "        text-align: right;\n",
       "    }\n",
       "</style>\n",
       "<table border=\"1\" class=\"dataframe\">\n",
       "  <thead>\n",
       "    <tr style=\"text-align: right;\">\n",
       "      <th></th>\n",
       "      <th>Gender</th>\n",
       "      <th>Married</th>\n",
       "      <th>Dependents</th>\n",
       "      <th>Education</th>\n",
       "      <th>Self_Employed</th>\n",
       "      <th>ApplicantIncome</th>\n",
       "      <th>CoapplicantIncome</th>\n",
       "      <th>LoanAmount</th>\n",
       "      <th>Loan_Amount_Term</th>\n",
       "      <th>Credit_History</th>\n",
       "      <th>Property_Area</th>\n",
       "    </tr>\n",
       "  </thead>\n",
       "  <tbody>\n",
       "    <tr>\n",
       "      <th>0</th>\n",
       "      <td>Male</td>\n",
       "      <td>No</td>\n",
       "      <td>0</td>\n",
       "      <td>Graduate</td>\n",
       "      <td>No</td>\n",
       "      <td>5849.00000</td>\n",
       "      <td>0.0</td>\n",
       "      <td>146.412162</td>\n",
       "      <td>360.0</td>\n",
       "      <td>1.0</td>\n",
       "      <td>Urban</td>\n",
       "    </tr>\n",
       "    <tr>\n",
       "      <th>1</th>\n",
       "      <td>Male</td>\n",
       "      <td>Yes</td>\n",
       "      <td>1</td>\n",
       "      <td>Graduate</td>\n",
       "      <td>No</td>\n",
       "      <td>5405.54085</td>\n",
       "      <td>1508.0</td>\n",
       "      <td>128.000000</td>\n",
       "      <td>360.0</td>\n",
       "      <td>1.0</td>\n",
       "      <td>Rural</td>\n",
       "    </tr>\n",
       "  </tbody>\n",
       "</table>\n",
       "</div>"
      ],
      "text/plain": [
       "  Gender Married Dependents Education Self_Employed  ApplicantIncome  \\\n",
       "0   Male      No          0  Graduate            No       5849.00000   \n",
       "1   Male     Yes          1  Graduate            No       5405.54085   \n",
       "\n",
       "   CoapplicantIncome  LoanAmount  Loan_Amount_Term  Credit_History  \\\n",
       "0                0.0  146.412162             360.0             1.0   \n",
       "1             1508.0  128.000000             360.0             1.0   \n",
       "\n",
       "  Property_Area  \n",
       "0         Urban  \n",
       "1         Rural  "
      ]
     },
     "execution_count": 8,
     "metadata": {},
     "output_type": "execute_result"
    }
   ],
   "source": [
    "X.head(2)"
   ]
  },
  {
   "cell_type": "markdown",
   "id": "3e754744",
   "metadata": {},
   "source": [
    "# Divide data in con & cat features"
   ]
  },
  {
   "cell_type": "code",
   "execution_count": 9,
   "id": "9f6f5197",
   "metadata": {},
   "outputs": [],
   "source": [
    "cat = []\n",
    "con = []\n",
    "for i in X.columns:\n",
    "    if(X[i].dtypes == \"object\"):\n",
    "        cat.append(i)\n",
    "    else:\n",
    "        con.append(i)"
   ]
  },
  {
   "cell_type": "code",
   "execution_count": 10,
   "id": "78d67fad",
   "metadata": {},
   "outputs": [
    {
     "data": {
      "text/plain": [
       "['Gender',\n",
       " 'Married',\n",
       " 'Dependents',\n",
       " 'Education',\n",
       " 'Self_Employed',\n",
       " 'Property_Area']"
      ]
     },
     "execution_count": 10,
     "metadata": {},
     "output_type": "execute_result"
    }
   ],
   "source": [
    "cat"
   ]
  },
  {
   "cell_type": "code",
   "execution_count": 11,
   "id": "e57ef28b",
   "metadata": {},
   "outputs": [
    {
     "data": {
      "text/plain": [
       "['ApplicantIncome',\n",
       " 'CoapplicantIncome',\n",
       " 'LoanAmount',\n",
       " 'Loan_Amount_Term',\n",
       " 'Credit_History']"
      ]
     },
     "execution_count": 11,
     "metadata": {},
     "output_type": "execute_result"
    }
   ],
   "source": [
    "con"
   ]
  },
  {
   "cell_type": "markdown",
   "id": "ce61a620",
   "metadata": {},
   "source": [
    "# Exploratory Data Analysis"
   ]
  },
  {
   "cell_type": "raw",
   "id": "7ba6d18a",
   "metadata": {},
   "source": [
    "Ycat,Xcon --> ANOVA\n",
    "Ycat,Xcat --> chisquare"
   ]
  },
  {
   "cell_type": "code",
   "execution_count": 12,
   "id": "80809749",
   "metadata": {},
   "outputs": [
    {
     "name": "stdout",
     "output_type": "stream",
     "text": [
      "-------- Loan_Status vs ApplicantIncome -------\n",
      "0.90252\n",
      "-------- Loan_Status vs CoapplicantIncome -------\n",
      "0.14239\n",
      "-------- Loan_Status vs LoanAmount -------\n",
      "0.36769\n",
      "-------- Loan_Status vs Loan_Amount_Term -------\n",
      "0.60396\n",
      "-------- Loan_Status vs Credit_History -------\n",
      "0.0\n"
     ]
    }
   ],
   "source": [
    "from PM8wd import ANOVA,chisq\n",
    "\n",
    "for i in con:\n",
    "    print(\"--------\",\"Loan_Status vs\",i,\"-------\")\n",
    "    print(ANOVA(A,\"Loan_Status\",i))"
   ]
  },
  {
   "cell_type": "code",
   "execution_count": 13,
   "id": "6635a8ba",
   "metadata": {},
   "outputs": [
    {
     "name": "stdout",
     "output_type": "stream",
     "text": [
      "-------- Loan_Status vs Gender -------\n",
      "0.73915\n",
      "-------- Loan_Status vs Married -------\n",
      "0.02961\n",
      "-------- Loan_Status vs Dependents -------\n",
      "0.36887\n",
      "-------- Loan_Status vs Education -------\n",
      "0.0431\n",
      "-------- Loan_Status vs Self_Employed -------\n",
      "0.97107\n",
      "-------- Loan_Status vs Property_Area -------\n",
      "0.00214\n"
     ]
    }
   ],
   "source": [
    "for i in cat:\n",
    "    print(\"--------\",\"Loan_Status vs\",i,\"-------\")\n",
    "    print(chisq(A,\"Loan_Status\",i))"
   ]
  },
  {
   "cell_type": "markdown",
   "id": "72806137",
   "metadata": {},
   "source": [
    "# Standardisation"
   ]
  },
  {
   "cell_type": "code",
   "execution_count": 14,
   "id": "24d2cf44",
   "metadata": {},
   "outputs": [],
   "source": [
    "from sklearn.preprocessing import StandardScaler\n",
    "ss = StandardScaler()"
   ]
  },
  {
   "cell_type": "code",
   "execution_count": 15,
   "id": "a7c50cb6",
   "metadata": {},
   "outputs": [
    {
     "data": {
      "text/html": [
       "<style>#sk-container-id-1 {color: black;background-color: white;}#sk-container-id-1 pre{padding: 0;}#sk-container-id-1 div.sk-toggleable {background-color: white;}#sk-container-id-1 label.sk-toggleable__label {cursor: pointer;display: block;width: 100%;margin-bottom: 0;padding: 0.3em;box-sizing: border-box;text-align: center;}#sk-container-id-1 label.sk-toggleable__label-arrow:before {content: \"▸\";float: left;margin-right: 0.25em;color: #696969;}#sk-container-id-1 label.sk-toggleable__label-arrow:hover:before {color: black;}#sk-container-id-1 div.sk-estimator:hover label.sk-toggleable__label-arrow:before {color: black;}#sk-container-id-1 div.sk-toggleable__content {max-height: 0;max-width: 0;overflow: hidden;text-align: left;background-color: #f0f8ff;}#sk-container-id-1 div.sk-toggleable__content pre {margin: 0.2em;color: black;border-radius: 0.25em;background-color: #f0f8ff;}#sk-container-id-1 input.sk-toggleable__control:checked~div.sk-toggleable__content {max-height: 200px;max-width: 100%;overflow: auto;}#sk-container-id-1 input.sk-toggleable__control:checked~label.sk-toggleable__label-arrow:before {content: \"▾\";}#sk-container-id-1 div.sk-estimator input.sk-toggleable__control:checked~label.sk-toggleable__label {background-color: #d4ebff;}#sk-container-id-1 div.sk-label input.sk-toggleable__control:checked~label.sk-toggleable__label {background-color: #d4ebff;}#sk-container-id-1 input.sk-hidden--visually {border: 0;clip: rect(1px 1px 1px 1px);clip: rect(1px, 1px, 1px, 1px);height: 1px;margin: -1px;overflow: hidden;padding: 0;position: absolute;width: 1px;}#sk-container-id-1 div.sk-estimator {font-family: monospace;background-color: #f0f8ff;border: 1px dotted black;border-radius: 0.25em;box-sizing: border-box;margin-bottom: 0.5em;}#sk-container-id-1 div.sk-estimator:hover {background-color: #d4ebff;}#sk-container-id-1 div.sk-parallel-item::after {content: \"\";width: 100%;border-bottom: 1px solid gray;flex-grow: 1;}#sk-container-id-1 div.sk-label:hover label.sk-toggleable__label {background-color: #d4ebff;}#sk-container-id-1 div.sk-serial::before {content: \"\";position: absolute;border-left: 1px solid gray;box-sizing: border-box;top: 0;bottom: 0;left: 50%;z-index: 0;}#sk-container-id-1 div.sk-serial {display: flex;flex-direction: column;align-items: center;background-color: white;padding-right: 0.2em;padding-left: 0.2em;position: relative;}#sk-container-id-1 div.sk-item {position: relative;z-index: 1;}#sk-container-id-1 div.sk-parallel {display: flex;align-items: stretch;justify-content: center;background-color: white;position: relative;}#sk-container-id-1 div.sk-item::before, #sk-container-id-1 div.sk-parallel-item::before {content: \"\";position: absolute;border-left: 1px solid gray;box-sizing: border-box;top: 0;bottom: 0;left: 50%;z-index: -1;}#sk-container-id-1 div.sk-parallel-item {display: flex;flex-direction: column;z-index: 1;position: relative;background-color: white;}#sk-container-id-1 div.sk-parallel-item:first-child::after {align-self: flex-end;width: 50%;}#sk-container-id-1 div.sk-parallel-item:last-child::after {align-self: flex-start;width: 50%;}#sk-container-id-1 div.sk-parallel-item:only-child::after {width: 0;}#sk-container-id-1 div.sk-dashed-wrapped {border: 1px dashed gray;margin: 0 0.4em 0.5em 0.4em;box-sizing: border-box;padding-bottom: 0.4em;background-color: white;}#sk-container-id-1 div.sk-label label {font-family: monospace;font-weight: bold;display: inline-block;line-height: 1.2em;}#sk-container-id-1 div.sk-label-container {text-align: center;}#sk-container-id-1 div.sk-container {/* jupyter's `normalize.less` sets `[hidden] { display: none; }` but bootstrap.min.css set `[hidden] { display: none !important; }` so we also need the `!important` here to be able to override the default hidden behavior on the sphinx rendered scikit-learn.org. See: https://github.com/scikit-learn/scikit-learn/issues/21755 */display: inline-block !important;position: relative;}#sk-container-id-1 div.sk-text-repr-fallback {display: none;}</style><div id=\"sk-container-id-1\" class=\"sk-top-container\"><div class=\"sk-text-repr-fallback\"><pre>StandardScaler()</pre><b>In a Jupyter environment, please rerun this cell to show the HTML representation or trust the notebook. <br />On GitHub, the HTML representation is unable to render, please try loading this page with nbviewer.org.</b></div><div class=\"sk-container\" hidden><div class=\"sk-item\"><div class=\"sk-estimator sk-toggleable\"><input class=\"sk-toggleable__control sk-hidden--visually\" id=\"sk-estimator-id-1\" type=\"checkbox\" checked><label for=\"sk-estimator-id-1\" class=\"sk-toggleable__label sk-toggleable__label-arrow\">StandardScaler</label><div class=\"sk-toggleable__content\"><pre>StandardScaler()</pre></div></div></div></div></div>"
      ],
      "text/plain": [
       "StandardScaler()"
      ]
     },
     "execution_count": 15,
     "metadata": {},
     "output_type": "execute_result"
    }
   ],
   "source": [
    "ss.fit(X[con])"
   ]
  },
  {
   "cell_type": "code",
   "execution_count": 16,
   "id": "c706c942",
   "metadata": {},
   "outputs": [],
   "source": [
    "X1 = pd.DataFrame(ss.transform(X[con]),columns=con)"
   ]
  },
  {
   "cell_type": "code",
   "execution_count": 17,
   "id": "318ed804",
   "metadata": {},
   "outputs": [
    {
     "data": {
      "text/html": [
       "<div>\n",
       "<style scoped>\n",
       "    .dataframe tbody tr th:only-of-type {\n",
       "        vertical-align: middle;\n",
       "    }\n",
       "\n",
       "    .dataframe tbody tr th {\n",
       "        vertical-align: top;\n",
       "    }\n",
       "\n",
       "    .dataframe thead th {\n",
       "        text-align: right;\n",
       "    }\n",
       "</style>\n",
       "<table border=\"1\" class=\"dataframe\">\n",
       "  <thead>\n",
       "    <tr style=\"text-align: right;\">\n",
       "      <th></th>\n",
       "      <th>ApplicantIncome</th>\n",
       "      <th>CoapplicantIncome</th>\n",
       "      <th>LoanAmount</th>\n",
       "      <th>Loan_Amount_Term</th>\n",
       "      <th>Credit_History</th>\n",
       "    </tr>\n",
       "  </thead>\n",
       "  <tbody>\n",
       "    <tr>\n",
       "      <th>0</th>\n",
       "      <td>0.072651</td>\n",
       "      <td>-0.554368</td>\n",
       "      <td>0.000000</td>\n",
       "      <td>0.279851</td>\n",
       "      <td>0.45164</td>\n",
       "    </tr>\n",
       "    <tr>\n",
       "      <th>1</th>\n",
       "      <td>0.000000</td>\n",
       "      <td>-0.038610</td>\n",
       "      <td>-0.219273</td>\n",
       "      <td>0.279851</td>\n",
       "      <td>0.45164</td>\n",
       "    </tr>\n",
       "  </tbody>\n",
       "</table>\n",
       "</div>"
      ],
      "text/plain": [
       "   ApplicantIncome  CoapplicantIncome  LoanAmount  Loan_Amount_Term  \\\n",
       "0         0.072651          -0.554368    0.000000          0.279851   \n",
       "1         0.000000          -0.038610   -0.219273          0.279851   \n",
       "\n",
       "   Credit_History  \n",
       "0         0.45164  \n",
       "1         0.45164  "
      ]
     },
     "execution_count": 17,
     "metadata": {},
     "output_type": "execute_result"
    }
   ],
   "source": [
    "X1.head(2)"
   ]
  },
  {
   "cell_type": "markdown",
   "id": "ad443b06",
   "metadata": {},
   "source": [
    "# Outlier Removal from training data"
   ]
  },
  {
   "cell_type": "code",
   "execution_count": 18,
   "id": "8fbf3de0",
   "metadata": {},
   "outputs": [],
   "source": [
    "from PM8wd import outliers\n",
    "Out = outliers(X1)"
   ]
  },
  {
   "cell_type": "code",
   "execution_count": 19,
   "id": "7c2d231d",
   "metadata": {},
   "outputs": [],
   "source": [
    "#Out"
   ]
  },
  {
   "cell_type": "code",
   "execution_count": 20,
   "id": "01d99a25",
   "metadata": {},
   "outputs": [],
   "source": [
    "X1 = X1.drop(index=Out,axis=0)\n",
    "Y = Y.drop(index=Out,axis=0)"
   ]
  },
  {
   "cell_type": "code",
   "execution_count": 21,
   "id": "f590622a",
   "metadata": {},
   "outputs": [
    {
     "data": {
      "text/plain": [
       "(577, 1)"
      ]
     },
     "execution_count": 21,
     "metadata": {},
     "output_type": "execute_result"
    }
   ],
   "source": [
    "X2 = pd.get_dummies(X[cat])\n",
    "X2.head(2)\n",
    "\n",
    "Xnew = X1.join(X2)\n",
    "\n",
    "Xnew.shape\n",
    "Y.shape"
   ]
  },
  {
   "cell_type": "markdown",
   "id": "1e6ea4cc",
   "metadata": {},
   "source": [
    "# Create model"
   ]
  },
  {
   "cell_type": "raw",
   "id": "a498e178",
   "metadata": {},
   "source": [
    "Full model"
   ]
  },
  {
   "cell_type": "code",
   "execution_count": 22,
   "id": "f1f0be39",
   "metadata": {},
   "outputs": [],
   "source": [
    "from sklearn.model_selection import train_test_split\n",
    "xtrain,xtest,ytrain,ytest=train_test_split(Xnew,Y,test_size=0.2,random_state=21)\n",
    "\n",
    "from sklearn.tree import DecisionTreeClassifier\n",
    "dtc = DecisionTreeClassifier(criterion=\"entropy\",random_state=21,max_depth=2)\n",
    "model = dtc.fit(xtrain,ytrain)\n",
    "\n",
    "pred_tr = model.predict(xtrain)\n",
    "pred_ts = model.predict(xtest)\n",
    "\n",
    "from sklearn.metrics import accuracy_score\n",
    "tr_acc = accuracy_score(ytrain,pred_tr)\n",
    "ts_acc = accuracy_score(ytest,pred_ts)"
   ]
  },
  {
   "cell_type": "code",
   "execution_count": 23,
   "id": "214e6654",
   "metadata": {},
   "outputs": [
    {
     "data": {
      "text/plain": [
       "0.8134490238611713"
      ]
     },
     "execution_count": 23,
     "metadata": {},
     "output_type": "execute_result"
    }
   ],
   "source": [
    "tr_acc"
   ]
  },
  {
   "cell_type": "code",
   "execution_count": 24,
   "id": "8ff38a79",
   "metadata": {},
   "outputs": [
    {
     "data": {
      "text/plain": [
       "0.8362068965517241"
      ]
     },
     "execution_count": 24,
     "metadata": {},
     "output_type": "execute_result"
    }
   ],
   "source": [
    "ts_acc"
   ]
  },
  {
   "cell_type": "markdown",
   "id": "8821bd3f",
   "metadata": {},
   "source": [
    "# Tree Model on the basis of imp features"
   ]
  },
  {
   "cell_type": "code",
   "execution_count": 25,
   "id": "5e140fda",
   "metadata": {},
   "outputs": [],
   "source": [
    "X = X[[\"Credit_History\",\"CoapplicantIncome\",\"Property_Area\",\"Education\",\"Married\"]]"
   ]
  },
  {
   "cell_type": "code",
   "execution_count": 26,
   "id": "9a001f5b",
   "metadata": {},
   "outputs": [],
   "source": [
    "from PM8wd import preprocessing\n",
    "Xnew = preprocessing(X)"
   ]
  },
  {
   "cell_type": "code",
   "execution_count": 27,
   "id": "156778e8",
   "metadata": {},
   "outputs": [
    {
     "data": {
      "text/plain": [
       "(614, 9)"
      ]
     },
     "execution_count": 27,
     "metadata": {},
     "output_type": "execute_result"
    }
   ],
   "source": [
    "Xnew.shape"
   ]
  },
  {
   "cell_type": "code",
   "execution_count": 28,
   "id": "e354c53f",
   "metadata": {},
   "outputs": [],
   "source": [
    "Xn = Xnew.drop(index=Out,axis=0)"
   ]
  },
  {
   "cell_type": "code",
   "execution_count": 29,
   "id": "ddae8f0e",
   "metadata": {},
   "outputs": [
    {
     "data": {
      "text/plain": [
       "(577, 9)"
      ]
     },
     "execution_count": 29,
     "metadata": {},
     "output_type": "execute_result"
    }
   ],
   "source": [
    "Xn.shape"
   ]
  },
  {
   "cell_type": "code",
   "execution_count": 30,
   "id": "7bb1422b",
   "metadata": {},
   "outputs": [],
   "source": [
    "from sklearn.model_selection import train_test_split\n",
    "xtrain,xtest,ytrain,ytest=train_test_split(Xn,Y,test_size=0.2,random_state=21)"
   ]
  },
  {
   "cell_type": "code",
   "execution_count": 31,
   "id": "283f7773",
   "metadata": {},
   "outputs": [],
   "source": [
    "from sklearn.ensemble import RandomForestClassifier\n",
    "dtc = RandomForestClassifier(criterion=\"entropy\",random_state=21,max_depth=3)\n",
    "model = dtc.fit(xtrain,ytrain)\n",
    "\n",
    "pred_tr = model.predict(xtrain)\n",
    "pred_ts = model.predict(xtest)\n",
    "\n",
    "from sklearn.metrics import accuracy_score\n",
    "tr_acc = accuracy_score(ytrain,pred_tr)\n",
    "ts_acc = accuracy_score(ytest,pred_ts)"
   ]
  },
  {
   "cell_type": "code",
   "execution_count": 32,
   "id": "02799f35",
   "metadata": {},
   "outputs": [
    {
     "data": {
      "text/plain": [
       "0.8134490238611713"
      ]
     },
     "execution_count": 32,
     "metadata": {},
     "output_type": "execute_result"
    }
   ],
   "source": [
    "tr_acc"
   ]
  },
  {
   "cell_type": "code",
   "execution_count": 33,
   "id": "522120b7",
   "metadata": {},
   "outputs": [
    {
     "data": {
      "text/plain": [
       "0.8448275862068966"
      ]
     },
     "execution_count": 33,
     "metadata": {},
     "output_type": "execute_result"
    }
   ],
   "source": [
    "ts_acc"
   ]
  },
  {
   "cell_type": "markdown",
   "id": "dcd14389",
   "metadata": {},
   "source": [
    "# Gridsearch CV\n",
    " To regularise the errors"
   ]
  },
  {
   "cell_type": "code",
   "execution_count": 34,
   "id": "beabc565",
   "metadata": {},
   "outputs": [],
   "source": [
    "tuning_grid = {\"max_depth\":range(2,5,1),\"criterion\":[\"gini\",\"entropy\"],\"n_estimators\":range(20,30,1)}"
   ]
  },
  {
   "cell_type": "code",
   "execution_count": 35,
   "id": "b2fea66c",
   "metadata": {},
   "outputs": [],
   "source": [
    "from sklearn.model_selection import GridSearchCV\n",
    "rfc = RandomForestClassifier(random_state=21)\n",
    "cv = GridSearchCV(rfc,tuning_grid,scoring=\"accuracy\",cv=4)\n",
    "\n",
    "cvmodel = cv.fit(xtrain,ytrain)"
   ]
  },
  {
   "cell_type": "code",
   "execution_count": 36,
   "id": "48289dc1",
   "metadata": {},
   "outputs": [
    {
     "data": {
      "text/plain": [
       "{'criterion': 'gini', 'max_depth': 2, 'n_estimators': 20}"
      ]
     },
     "execution_count": 36,
     "metadata": {},
     "output_type": "execute_result"
    }
   ],
   "source": [
    "cvmodel.best_params_"
   ]
  },
  {
   "cell_type": "code",
   "execution_count": 37,
   "id": "aa9e44e7",
   "metadata": {},
   "outputs": [],
   "source": [
    "rfc_model =RandomForestClassifier(criterion='gini', max_depth=2, n_estimators= 20,random_state=21)"
   ]
  },
  {
   "cell_type": "code",
   "execution_count": 38,
   "id": "0cceceb2",
   "metadata": {},
   "outputs": [],
   "source": [
    "model = rfc_model.fit(xtrain,ytrain)\n",
    "\n",
    "pred_tr = model.predict(xtrain)\n",
    "pred_ts = model.predict(xtest)\n",
    "\n",
    "from sklearn.metrics import accuracy_score\n",
    "tr_acc = accuracy_score(ytrain,pred_tr)\n",
    "ts_acc = accuracy_score(ytest,pred_ts)"
   ]
  },
  {
   "cell_type": "code",
   "execution_count": 39,
   "id": "9a3342ec",
   "metadata": {},
   "outputs": [
    {
     "data": {
      "text/plain": [
       "0.8112798264642083"
      ]
     },
     "execution_count": 39,
     "metadata": {},
     "output_type": "execute_result"
    }
   ],
   "source": [
    "tr_acc"
   ]
  },
  {
   "cell_type": "code",
   "execution_count": 40,
   "id": "a21d7953",
   "metadata": {},
   "outputs": [
    {
     "data": {
      "text/plain": [
       "0.8448275862068966"
      ]
     },
     "execution_count": 40,
     "metadata": {},
     "output_type": "execute_result"
    }
   ],
   "source": [
    "ts_acc"
   ]
  },
  {
   "cell_type": "markdown",
   "id": "3a6c2b4b",
   "metadata": {},
   "source": [
    "# Getting Data ready for predictions¶"
   ]
  },
  {
   "cell_type": "code",
   "execution_count": 41,
   "id": "6f4f73d6",
   "metadata": {},
   "outputs": [],
   "source": [
    "B = pd.read_csv(\"testing_set.csv\")"
   ]
  },
  {
   "cell_type": "code",
   "execution_count": 42,
   "id": "ded4c84b",
   "metadata": {},
   "outputs": [],
   "source": [
    "#B1 =B[X.columns].head()"
   ]
  },
  {
   "cell_type": "markdown",
   "id": "a1bad975",
   "metadata": {},
   "source": [
    "# Missing data treatment on testing dataset"
   ]
  },
  {
   "cell_type": "code",
   "execution_count": 43,
   "id": "e4537c52",
   "metadata": {},
   "outputs": [],
   "source": [
    "replacer(B)\n",
    "\n",
    "cat = []\n",
    "con = []\n",
    "for i in B.columns:\n",
    "    if(B[i].dtypes == \"object\"):\n",
    "        cat.append(i)\n",
    "    else:\n",
    "        con.append(i)"
   ]
  },
  {
   "cell_type": "markdown",
   "id": "d990917a",
   "metadata": {},
   "source": [
    "# Preprocessing"
   ]
  },
  {
   "cell_type": "code",
   "execution_count": 44,
   "id": "43e1caac",
   "metadata": {},
   "outputs": [],
   "source": [
    "B1 = pd.DataFrame(ss.transform(B[con]),columns=con)\n",
    "B2 = pd.get_dummies(B[cat])\n",
    "Bnew = B1.join(B2)"
   ]
  },
  {
   "cell_type": "code",
   "execution_count": 45,
   "id": "d97dd6e6",
   "metadata": {},
   "outputs": [
    {
     "data": {
      "text/plain": [
       "Index(['Credit_History', 'CoapplicantIncome', 'Property_Area_Rural',\n",
       "       'Property_Area_Semiurban', 'Property_Area_Urban', 'Education_Graduate',\n",
       "       'Education_Not Graduate', 'Married_No', 'Married_Yes'],\n",
       "      dtype='object')"
      ]
     },
     "execution_count": 45,
     "metadata": {},
     "output_type": "execute_result"
    }
   ],
   "source": [
    "Xn.columns # Imp Features"
   ]
  },
  {
   "cell_type": "code",
   "execution_count": 46,
   "id": "d0dc293e",
   "metadata": {},
   "outputs": [],
   "source": [
    "cols_ready_for_pred = Bnew[Xn.columns] # Extracted imp features from Xn to Bnew,to make predictions"
   ]
  },
  {
   "cell_type": "code",
   "execution_count": 47,
   "id": "57883373",
   "metadata": {},
   "outputs": [
    {
     "data": {
      "text/plain": [
       "array(['Y', 'Y', 'Y', 'Y', 'Y', 'Y', 'Y', 'N', 'Y', 'Y', 'Y', 'Y', 'Y',\n",
       "       'N', 'Y', 'Y', 'Y', 'Y', 'Y', 'Y', 'Y', 'Y', 'Y', 'Y', 'Y', 'N',\n",
       "       'Y', 'Y', 'Y', 'Y', 'Y', 'Y', 'Y', 'Y', 'Y', 'N', 'Y', 'Y', 'Y',\n",
       "       'Y', 'Y', 'Y', 'Y', 'Y', 'Y', 'Y', 'Y', 'Y', 'Y', 'Y', 'Y', 'Y',\n",
       "       'Y', 'Y', 'Y', 'N', 'Y', 'Y', 'N', 'Y', 'Y', 'Y', 'Y', 'N', 'Y',\n",
       "       'Y', 'N', 'N', 'Y', 'N', 'Y', 'Y', 'Y', 'Y', 'Y', 'Y', 'Y', 'Y',\n",
       "       'Y', 'Y', 'N', 'Y', 'N', 'Y', 'N', 'Y', 'Y', 'Y', 'Y', 'Y', 'Y',\n",
       "       'Y', 'Y', 'Y', 'N', 'Y', 'Y', 'Y', 'Y', 'Y', 'Y', 'N', 'Y', 'Y',\n",
       "       'Y', 'Y', 'N', 'Y', 'Y', 'Y', 'Y', 'Y', 'Y', 'Y', 'Y', 'Y', 'Y',\n",
       "       'N', 'N', 'N', 'Y', 'Y', 'Y', 'N', 'N', 'Y', 'N', 'Y', 'Y', 'Y',\n",
       "       'Y', 'Y', 'Y', 'Y', 'Y', 'Y', 'Y', 'Y', 'Y', 'Y', 'N', 'Y', 'N',\n",
       "       'Y', 'Y', 'Y', 'Y', 'N', 'Y', 'Y', 'Y', 'Y', 'Y', 'N', 'Y', 'Y',\n",
       "       'Y', 'Y', 'Y', 'Y', 'Y', 'N', 'Y', 'Y', 'Y', 'N', 'N', 'Y', 'N',\n",
       "       'Y', 'Y', 'Y', 'Y', 'N', 'N', 'Y', 'Y', 'Y', 'Y', 'Y', 'Y', 'Y',\n",
       "       'Y', 'Y', 'Y', 'Y', 'Y', 'Y', 'Y', 'Y', 'Y', 'Y', 'N', 'N', 'Y',\n",
       "       'Y', 'N', 'Y', 'N', 'Y', 'Y', 'Y', 'Y', 'Y', 'Y', 'Y', 'Y', 'Y',\n",
       "       'Y', 'Y', 'Y', 'N', 'Y', 'Y', 'Y', 'Y', 'Y', 'Y', 'Y', 'Y', 'Y',\n",
       "       'Y', 'Y', 'Y', 'N', 'Y', 'Y', 'Y', 'Y', 'N', 'Y', 'Y', 'Y', 'Y',\n",
       "       'Y', 'N', 'N', 'Y', 'Y', 'Y', 'Y', 'N', 'Y', 'N', 'Y', 'N', 'Y',\n",
       "       'Y', 'Y', 'Y', 'N', 'Y', 'Y', 'Y', 'Y', 'N', 'Y', 'Y', 'Y', 'Y',\n",
       "       'Y', 'Y', 'Y', 'Y', 'Y', 'Y', 'N', 'Y', 'N', 'Y', 'Y', 'Y', 'Y',\n",
       "       'N', 'N', 'Y', 'Y', 'Y', 'N', 'Y', 'Y', 'Y', 'Y', 'Y', 'Y', 'Y',\n",
       "       'Y', 'Y', 'Y', 'Y', 'Y', 'Y', 'Y', 'N', 'Y', 'Y', 'Y', 'Y', 'Y',\n",
       "       'Y', 'Y', 'N', 'Y', 'Y', 'Y', 'Y', 'Y', 'Y', 'Y', 'Y', 'Y', 'N',\n",
       "       'Y', 'Y', 'Y', 'Y', 'Y', 'N', 'Y', 'Y', 'Y', 'Y', 'Y', 'Y', 'Y',\n",
       "       'N', 'Y', 'Y', 'Y', 'Y', 'Y', 'Y', 'Y', 'Y', 'Y', 'Y', 'Y', 'Y',\n",
       "       'Y', 'N', 'Y', 'Y', 'Y', 'Y', 'Y', 'Y', 'N', 'Y', 'Y', 'Y', 'Y',\n",
       "       'Y', 'Y', 'Y', 'N', 'Y', 'Y', 'Y', 'Y', 'Y', 'Y', 'Y', 'Y', 'Y',\n",
       "       'Y', 'Y', 'Y'], dtype=object)"
      ]
     },
     "execution_count": 47,
     "metadata": {},
     "output_type": "execute_result"
    }
   ],
   "source": [
    "final_predictions=model.predict(cols_ready_for_pred)\n",
    "final_predictions"
   ]
  },
  {
   "cell_type": "code",
   "execution_count": 48,
   "id": "5f8c8a25",
   "metadata": {},
   "outputs": [],
   "source": [
    "F = pd.DataFrame([B.Loan_ID,final_predictions]).T\n",
    "F.columns = [\"Loan_ID\",\"Loan_Status\"]"
   ]
  },
  {
   "cell_type": "code",
   "execution_count": 49,
   "id": "c8719a9c",
   "metadata": {},
   "outputs": [],
   "source": [
    "F.to_csv(\"submission.csv\")"
   ]
  },
  {
   "cell_type": "code",
   "execution_count": 50,
   "id": "65542fc8",
   "metadata": {},
   "outputs": [
    {
     "data": {
      "text/html": [
       "<div>\n",
       "<style scoped>\n",
       "    .dataframe tbody tr th:only-of-type {\n",
       "        vertical-align: middle;\n",
       "    }\n",
       "\n",
       "    .dataframe tbody tr th {\n",
       "        vertical-align: top;\n",
       "    }\n",
       "\n",
       "    .dataframe thead th {\n",
       "        text-align: right;\n",
       "    }\n",
       "</style>\n",
       "<table border=\"1\" class=\"dataframe\">\n",
       "  <thead>\n",
       "    <tr style=\"text-align: right;\">\n",
       "      <th></th>\n",
       "      <th>Loan_ID</th>\n",
       "      <th>Loan_Status</th>\n",
       "    </tr>\n",
       "  </thead>\n",
       "  <tbody>\n",
       "    <tr>\n",
       "      <th>0</th>\n",
       "      <td>LP001015</td>\n",
       "      <td>Y</td>\n",
       "    </tr>\n",
       "    <tr>\n",
       "      <th>1</th>\n",
       "      <td>LP001022</td>\n",
       "      <td>Y</td>\n",
       "    </tr>\n",
       "    <tr>\n",
       "      <th>2</th>\n",
       "      <td>LP001031</td>\n",
       "      <td>Y</td>\n",
       "    </tr>\n",
       "  </tbody>\n",
       "</table>\n",
       "</div>"
      ],
      "text/plain": [
       "    Loan_ID Loan_Status\n",
       "0  LP001015           Y\n",
       "1  LP001022           Y\n",
       "2  LP001031           Y"
      ]
     },
     "execution_count": 50,
     "metadata": {},
     "output_type": "execute_result"
    }
   ],
   "source": [
    "F.head(3)"
   ]
  },
  {
   "cell_type": "markdown",
   "id": "4dad3d77",
   "metadata": {},
   "source": [
    "# Problem Statement 3(A)"
   ]
  },
  {
   "cell_type": "markdown",
   "id": "49e192e0",
   "metadata": {},
   "source": [
    "# If customer is not eligible for the input required amount and duration:\n",
    "a.)what can be amount for the given duration.(Regression)"
   ]
  },
  {
   "cell_type": "code",
   "execution_count": 51,
   "id": "c2b29b50",
   "metadata": {},
   "outputs": [],
   "source": [
    "B['Loan_Status']=final_predictions # added final predictions to testing dataset with new colum name as Loan_Status"
   ]
  },
  {
   "cell_type": "code",
   "execution_count": 52,
   "id": "d3043c8d",
   "metadata": {},
   "outputs": [
    {
     "data": {
      "text/plain": [
       "Index(['Loan_ID', 'Gender', 'Married', 'Dependents', 'Education',\n",
       "       'Self_Employed', 'ApplicantIncome', 'CoapplicantIncome', 'LoanAmount',\n",
       "       'Loan_Amount_Term', 'Credit_History', 'Property_Area', 'Loan_Status'],\n",
       "      dtype='object')"
      ]
     },
     "execution_count": 52,
     "metadata": {},
     "output_type": "execute_result"
    }
   ],
   "source": [
    "B.columns #new predicted loan status get added to testing dataset"
   ]
  },
  {
   "cell_type": "markdown",
   "id": "0babeb5f",
   "metadata": {},
   "source": [
    "# Find out people for whom loan was rejected(testing set)"
   ]
  },
  {
   "cell_type": "code",
   "execution_count": 53,
   "id": "1b852aa4",
   "metadata": {},
   "outputs": [],
   "source": [
    "xtest = B[B.Loan_Status == \"N\"]#People whose loan rejected(from testing dataset with added loan status column)\n",
    "xtest_1 = xtest.drop(labels=['Loan_ID','LoanAmount','Loan_Status'],axis=1)"
   ]
  },
  {
   "cell_type": "code",
   "execution_count": 54,
   "id": "a0de300b",
   "metadata": {},
   "outputs": [],
   "source": [
    "xtest_1.index = range(0,xtest_1.shape[0])"
   ]
  },
  {
   "cell_type": "code",
   "execution_count": 55,
   "id": "ae744c18",
   "metadata": {},
   "outputs": [
    {
     "data": {
      "text/html": [
       "<div>\n",
       "<style scoped>\n",
       "    .dataframe tbody tr th:only-of-type {\n",
       "        vertical-align: middle;\n",
       "    }\n",
       "\n",
       "    .dataframe tbody tr th {\n",
       "        vertical-align: top;\n",
       "    }\n",
       "\n",
       "    .dataframe thead th {\n",
       "        text-align: right;\n",
       "    }\n",
       "</style>\n",
       "<table border=\"1\" class=\"dataframe\">\n",
       "  <thead>\n",
       "    <tr style=\"text-align: right;\">\n",
       "      <th></th>\n",
       "      <th>Gender</th>\n",
       "      <th>Married</th>\n",
       "      <th>Dependents</th>\n",
       "      <th>Education</th>\n",
       "      <th>Self_Employed</th>\n",
       "      <th>ApplicantIncome</th>\n",
       "      <th>CoapplicantIncome</th>\n",
       "      <th>Loan_Amount_Term</th>\n",
       "      <th>Credit_History</th>\n",
       "      <th>Property_Area</th>\n",
       "    </tr>\n",
       "  </thead>\n",
       "  <tbody>\n",
       "    <tr>\n",
       "      <th>0</th>\n",
       "      <td>Male</td>\n",
       "      <td>Yes</td>\n",
       "      <td>2</td>\n",
       "      <td>Not Graduate</td>\n",
       "      <td>No</td>\n",
       "      <td>3881</td>\n",
       "      <td>0</td>\n",
       "      <td>360.0</td>\n",
       "      <td>0.0</td>\n",
       "      <td>Rural</td>\n",
       "    </tr>\n",
       "    <tr>\n",
       "      <th>1</th>\n",
       "      <td>Male</td>\n",
       "      <td>Yes</td>\n",
       "      <td>2</td>\n",
       "      <td>Graduate</td>\n",
       "      <td>No</td>\n",
       "      <td>12173</td>\n",
       "      <td>0</td>\n",
       "      <td>360.0</td>\n",
       "      <td>0.0</td>\n",
       "      <td>Semiurban</td>\n",
       "    </tr>\n",
       "    <tr>\n",
       "      <th>2</th>\n",
       "      <td>Male</td>\n",
       "      <td>No</td>\n",
       "      <td>0</td>\n",
       "      <td>Graduate</td>\n",
       "      <td>No</td>\n",
       "      <td>0</td>\n",
       "      <td>24000</td>\n",
       "      <td>360.0</td>\n",
       "      <td>0.0</td>\n",
       "      <td>Rural</td>\n",
       "    </tr>\n",
       "  </tbody>\n",
       "</table>\n",
       "</div>"
      ],
      "text/plain": [
       "  Gender Married Dependents     Education Self_Employed  ApplicantIncome  \\\n",
       "0   Male     Yes          2  Not Graduate            No             3881   \n",
       "1   Male     Yes          2      Graduate            No            12173   \n",
       "2   Male      No          0      Graduate            No                0   \n",
       "\n",
       "   CoapplicantIncome  Loan_Amount_Term  Credit_History Property_Area  \n",
       "0                  0             360.0             0.0         Rural  \n",
       "1                  0             360.0             0.0     Semiurban  \n",
       "2              24000             360.0             0.0         Rural  "
      ]
     },
     "execution_count": 55,
     "metadata": {},
     "output_type": "execute_result"
    }
   ],
   "source": [
    "xtest_1.head(3)"
   ]
  },
  {
   "cell_type": "markdown",
   "id": "3fd155bf",
   "metadata": {},
   "source": [
    "# Create training data based on above predictors(same columns)"
   ]
  },
  {
   "cell_type": "code",
   "execution_count": 56,
   "id": "d5f230d7",
   "metadata": {},
   "outputs": [],
   "source": [
    "Q = A[xtest_1.columns] # imported same columns as xtest_1 from original training dataset i.e. A\n",
    "Q['LS'] = A.Loan_Status # added Loan_status to Q from original training data A"
   ]
  },
  {
   "cell_type": "code",
   "execution_count": 57,
   "id": "721c8c21",
   "metadata": {},
   "outputs": [
    {
     "data": {
      "text/html": [
       "<div>\n",
       "<style scoped>\n",
       "    .dataframe tbody tr th:only-of-type {\n",
       "        vertical-align: middle;\n",
       "    }\n",
       "\n",
       "    .dataframe tbody tr th {\n",
       "        vertical-align: top;\n",
       "    }\n",
       "\n",
       "    .dataframe thead th {\n",
       "        text-align: right;\n",
       "    }\n",
       "</style>\n",
       "<table border=\"1\" class=\"dataframe\">\n",
       "  <thead>\n",
       "    <tr style=\"text-align: right;\">\n",
       "      <th></th>\n",
       "      <th>Gender</th>\n",
       "      <th>Married</th>\n",
       "      <th>Dependents</th>\n",
       "      <th>Education</th>\n",
       "      <th>Self_Employed</th>\n",
       "      <th>ApplicantIncome</th>\n",
       "      <th>CoapplicantIncome</th>\n",
       "      <th>Loan_Amount_Term</th>\n",
       "      <th>Credit_History</th>\n",
       "      <th>Property_Area</th>\n",
       "      <th>LS</th>\n",
       "    </tr>\n",
       "  </thead>\n",
       "  <tbody>\n",
       "    <tr>\n",
       "      <th>0</th>\n",
       "      <td>Male</td>\n",
       "      <td>No</td>\n",
       "      <td>0</td>\n",
       "      <td>Graduate</td>\n",
       "      <td>No</td>\n",
       "      <td>5849.00000</td>\n",
       "      <td>0.0</td>\n",
       "      <td>360.0</td>\n",
       "      <td>1.0</td>\n",
       "      <td>Urban</td>\n",
       "      <td>Y</td>\n",
       "    </tr>\n",
       "    <tr>\n",
       "      <th>1</th>\n",
       "      <td>Male</td>\n",
       "      <td>Yes</td>\n",
       "      <td>1</td>\n",
       "      <td>Graduate</td>\n",
       "      <td>No</td>\n",
       "      <td>5405.54085</td>\n",
       "      <td>1508.0</td>\n",
       "      <td>360.0</td>\n",
       "      <td>1.0</td>\n",
       "      <td>Rural</td>\n",
       "      <td>N</td>\n",
       "    </tr>\n",
       "  </tbody>\n",
       "</table>\n",
       "</div>"
      ],
      "text/plain": [
       "  Gender Married Dependents Education Self_Employed  ApplicantIncome  \\\n",
       "0   Male      No          0  Graduate            No       5849.00000   \n",
       "1   Male     Yes          1  Graduate            No       5405.54085   \n",
       "\n",
       "   CoapplicantIncome  Loan_Amount_Term  Credit_History Property_Area LS  \n",
       "0                0.0             360.0             1.0         Urban  Y  \n",
       "1             1508.0             360.0             1.0         Rural  N  "
      ]
     },
     "execution_count": 57,
     "metadata": {},
     "output_type": "execute_result"
    }
   ],
   "source": [
    "Q.head(2)#  Q is Training dataset"
   ]
  },
  {
   "cell_type": "code",
   "execution_count": 58,
   "id": "27a2c9b1",
   "metadata": {},
   "outputs": [],
   "source": [
    "Q = Q[Q.LS == \"Y\"] # exported approved loan people\n",
    "Q = Q.drop(labels=[\"LS\"],axis=1)"
   ]
  },
  {
   "cell_type": "code",
   "execution_count": 59,
   "id": "233af7d2",
   "metadata": {},
   "outputs": [
    {
     "data": {
      "text/html": [
       "<div>\n",
       "<style scoped>\n",
       "    .dataframe tbody tr th:only-of-type {\n",
       "        vertical-align: middle;\n",
       "    }\n",
       "\n",
       "    .dataframe tbody tr th {\n",
       "        vertical-align: top;\n",
       "    }\n",
       "\n",
       "    .dataframe thead th {\n",
       "        text-align: right;\n",
       "    }\n",
       "</style>\n",
       "<table border=\"1\" class=\"dataframe\">\n",
       "  <thead>\n",
       "    <tr style=\"text-align: right;\">\n",
       "      <th></th>\n",
       "      <th>Gender</th>\n",
       "      <th>Married</th>\n",
       "      <th>Dependents</th>\n",
       "      <th>Education</th>\n",
       "      <th>Self_Employed</th>\n",
       "      <th>ApplicantIncome</th>\n",
       "      <th>CoapplicantIncome</th>\n",
       "      <th>Loan_Amount_Term</th>\n",
       "      <th>Credit_History</th>\n",
       "      <th>Property_Area</th>\n",
       "    </tr>\n",
       "  </thead>\n",
       "  <tbody>\n",
       "    <tr>\n",
       "      <th>0</th>\n",
       "      <td>Male</td>\n",
       "      <td>No</td>\n",
       "      <td>0</td>\n",
       "      <td>Graduate</td>\n",
       "      <td>No</td>\n",
       "      <td>5849.0</td>\n",
       "      <td>0.0</td>\n",
       "      <td>360.0</td>\n",
       "      <td>1.0</td>\n",
       "      <td>Urban</td>\n",
       "    </tr>\n",
       "    <tr>\n",
       "      <th>2</th>\n",
       "      <td>Male</td>\n",
       "      <td>Yes</td>\n",
       "      <td>0</td>\n",
       "      <td>Graduate</td>\n",
       "      <td>Yes</td>\n",
       "      <td>3000.0</td>\n",
       "      <td>0.0</td>\n",
       "      <td>360.0</td>\n",
       "      <td>1.0</td>\n",
       "      <td>Urban</td>\n",
       "    </tr>\n",
       "    <tr>\n",
       "      <th>3</th>\n",
       "      <td>Male</td>\n",
       "      <td>Yes</td>\n",
       "      <td>0</td>\n",
       "      <td>Not Graduate</td>\n",
       "      <td>No</td>\n",
       "      <td>2583.0</td>\n",
       "      <td>2358.0</td>\n",
       "      <td>360.0</td>\n",
       "      <td>1.0</td>\n",
       "      <td>Urban</td>\n",
       "    </tr>\n",
       "  </tbody>\n",
       "</table>\n",
       "</div>"
      ],
      "text/plain": [
       "  Gender Married Dependents     Education Self_Employed  ApplicantIncome  \\\n",
       "0   Male      No          0      Graduate            No           5849.0   \n",
       "2   Male     Yes          0      Graduate           Yes           3000.0   \n",
       "3   Male     Yes          0  Not Graduate            No           2583.0   \n",
       "\n",
       "   CoapplicantIncome  Loan_Amount_Term  Credit_History Property_Area  \n",
       "0                0.0             360.0             1.0         Urban  \n",
       "2                0.0             360.0             1.0         Urban  \n",
       "3             2358.0             360.0             1.0         Urban  "
      ]
     },
     "execution_count": 59,
     "metadata": {},
     "output_type": "execute_result"
    }
   ],
   "source": [
    "Q.head(3) # here are 422 people with approved loan"
   ]
  },
  {
   "cell_type": "code",
   "execution_count": 60,
   "id": "1d237f8f",
   "metadata": {},
   "outputs": [],
   "source": [
    "R = A[[\"LoanAmount\"]]\n",
    "R = R.iloc[Q.index,:]\n",
    "R.index = range(0,R.shape[0])\n",
    "Q.index = range(0,R.shape[0])"
   ]
  },
  {
   "cell_type": "code",
   "execution_count": 61,
   "id": "15e804fb",
   "metadata": {},
   "outputs": [
    {
     "data": {
      "text/plain": [
       "(422, 1)"
      ]
     },
     "execution_count": 61,
     "metadata": {},
     "output_type": "execute_result"
    }
   ],
   "source": [
    "R.shape  #(Y) ytrain"
   ]
  },
  {
   "cell_type": "code",
   "execution_count": 62,
   "id": "9af97fbd",
   "metadata": {},
   "outputs": [
    {
     "data": {
      "text/plain": [
       "(422, 10)"
      ]
     },
     "execution_count": 62,
     "metadata": {},
     "output_type": "execute_result"
    }
   ],
   "source": [
    "Q.shape #(X) xtrain"
   ]
  },
  {
   "cell_type": "markdown",
   "id": "9c98467e",
   "metadata": {},
   "source": [
    "# Preprocessing"
   ]
  },
  {
   "cell_type": "code",
   "execution_count": 63,
   "id": "46f1e1b5",
   "metadata": {},
   "outputs": [],
   "source": [
    "replacer(Q) # training set\n",
    "replacer(xtest_1) # testing set"
   ]
  },
  {
   "cell_type": "code",
   "execution_count": 64,
   "id": "a23a27da",
   "metadata": {},
   "outputs": [],
   "source": [
    "from PM8wd import preprocessing\n",
    "xtrain = preprocessing(Q)\n",
    "xtest_final = preprocessing(xtest_1)"
   ]
  },
  {
   "cell_type": "code",
   "execution_count": 65,
   "id": "dcfc54cd",
   "metadata": {},
   "outputs": [],
   "source": [
    "#xtrain - Data from testing dataset\n",
    "ytrain = R.LoanAmount # Loan Amount from training data(Actual amount approved)"
   ]
  },
  {
   "cell_type": "code",
   "execution_count": 66,
   "id": "c40be4c9",
   "metadata": {},
   "outputs": [],
   "source": [
    "ytrain = R.LoanAmount"
   ]
  },
  {
   "cell_type": "code",
   "execution_count": 67,
   "id": "d377c824",
   "metadata": {},
   "outputs": [
    {
     "data": {
      "text/plain": [
       "0    146.412162\n",
       "1     66.000000\n",
       "2    120.000000\n",
       "Name: LoanAmount, dtype: float64"
      ]
     },
     "execution_count": 67,
     "metadata": {},
     "output_type": "execute_result"
    }
   ],
   "source": [
    "ytrain.head(3)"
   ]
  },
  {
   "cell_type": "markdown",
   "id": "d25cc650",
   "metadata": {},
   "source": [
    "# Linear Regression model"
   ]
  },
  {
   "cell_type": "code",
   "execution_count": 68,
   "id": "5e9d248f",
   "metadata": {},
   "outputs": [],
   "source": [
    "from sklearn.linear_model import LinearRegression\n",
    "lm = LinearRegression()\n",
    "model = lm.fit(xtrain,ytrain)\n",
    "pred = model.predict(xtest_final)"
   ]
  },
  {
   "cell_type": "code",
   "execution_count": 69,
   "id": "bd0fe75b",
   "metadata": {},
   "outputs": [
    {
     "data": {
      "text/plain": [
       "array([140.76282884, 340.98887023, 167.44009611, 108.34716488,\n",
       "        97.92989025, 139.21375108,  95.72410567, 140.91979522,\n",
       "       126.69845822, 137.37645312, 162.3882514 , 162.96968459,\n",
       "       125.70134756, 182.87814716, 112.50349217,  80.3519515 ,\n",
       "       118.676172  ,  85.87091315, 100.7479767 , 133.6684905 ,\n",
       "       320.96099213, 184.88676045, 151.84864623, 213.26225442,\n",
       "       240.32081636, 117.2343788 , 104.03410412,  73.01468012,\n",
       "        68.16287152, 121.82167629,  94.52236613, 104.73290799,\n",
       "       153.72808893, 133.0056771 , 175.04357448, 120.12395518,\n",
       "       178.42122479, 175.51193393, 173.08154086, 100.36649536,\n",
       "       112.16208568, 144.86167816, 121.51234457, 112.65882731,\n",
       "       161.59599456, 108.50934213, 157.27788765, 204.81961608,\n",
       "       192.41989475, 113.4063788 , 143.12129572, 105.01449359,\n",
       "       208.77720141, 143.72001335,  85.34117815,  66.50746875,\n",
       "       151.82643905, 142.63575017, 153.91191277])"
      ]
     },
     "execution_count": 69,
     "metadata": {},
     "output_type": "execute_result"
    }
   ],
   "source": [
    "pred #predicted loan amount for people whose applied loan amount was rejected"
   ]
  },
  {
   "cell_type": "code",
   "execution_count": 70,
   "id": "f3c42c60",
   "metadata": {},
   "outputs": [
    {
     "data": {
      "text/plain": [
       "(59,)"
      ]
     },
     "execution_count": 70,
     "metadata": {},
     "output_type": "execute_result"
    }
   ],
   "source": [
    "pred.shape"
   ]
  },
  {
   "cell_type": "code",
   "execution_count": 71,
   "id": "eb115610",
   "metadata": {},
   "outputs": [],
   "source": [
    "Actual_Amt = B[B.Loan_Status == \"N\"][[\"LoanAmount\"]]# actual loan amount applied but got rejected"
   ]
  },
  {
   "cell_type": "code",
   "execution_count": 72,
   "id": "b3b34fbe",
   "metadata": {},
   "outputs": [],
   "source": [
    "Actual_Amt.index = range(0,59)"
   ]
  },
  {
   "cell_type": "code",
   "execution_count": 73,
   "id": "b53b3964",
   "metadata": {},
   "outputs": [
    {
     "data": {
      "text/html": [
       "<div>\n",
       "<style scoped>\n",
       "    .dataframe tbody tr th:only-of-type {\n",
       "        vertical-align: middle;\n",
       "    }\n",
       "\n",
       "    .dataframe tbody tr th {\n",
       "        vertical-align: top;\n",
       "    }\n",
       "\n",
       "    .dataframe thead th {\n",
       "        text-align: right;\n",
       "    }\n",
       "</style>\n",
       "<table border=\"1\" class=\"dataframe\">\n",
       "  <thead>\n",
       "    <tr style=\"text-align: right;\">\n",
       "      <th></th>\n",
       "      <th>LoanAmount</th>\n",
       "    </tr>\n",
       "  </thead>\n",
       "  <tbody>\n",
       "    <tr>\n",
       "      <th>0</th>\n",
       "      <td>147.0</td>\n",
       "    </tr>\n",
       "    <tr>\n",
       "      <th>1</th>\n",
       "      <td>166.0</td>\n",
       "    </tr>\n",
       "  </tbody>\n",
       "</table>\n",
       "</div>"
      ],
      "text/plain": [
       "   LoanAmount\n",
       "0       147.0\n",
       "1       166.0"
      ]
     },
     "execution_count": 73,
     "metadata": {},
     "output_type": "execute_result"
    }
   ],
   "source": [
    "Actual_Amt.head(2)"
   ]
  },
  {
   "cell_type": "code",
   "execution_count": 74,
   "id": "2c569867",
   "metadata": {},
   "outputs": [],
   "source": [
    "E = range(0,59)"
   ]
  },
  {
   "cell_type": "code",
   "execution_count": 75,
   "id": "cd9cfa7d",
   "metadata": {},
   "outputs": [
    {
     "data": {
      "text/plain": [
       "[<matplotlib.lines.Line2D at 0x28e03ab6220>]"
      ]
     },
     "execution_count": 75,
     "metadata": {},
     "output_type": "execute_result"
    },
    {
     "data": {
      "image/png": "[encoded data removed]",
      "text/plain": [
       "<Figure size 432x288 with 1 Axes>"
      ]
     },
     "metadata": {
      "needs_background": "light"
     },
     "output_type": "display_data"
    }
   ],
   "source": [
    "import matplotlib.pyplot as plt\n",
    "plt.plot(Actual_Amt,c=\"blue\")\n",
    "plt.plot(pred,c=\"red\")"
   ]
  },
  {
   "cell_type": "code",
   "execution_count": 76,
   "id": "8f0f5fb8",
   "metadata": {},
   "outputs": [
    {
     "data": {
      "text/plain": [
       "array([140.76282884, 340.98887023, 167.44009611, 108.34716488,\n",
       "        97.92989025, 139.21375108,  95.72410567, 140.91979522,\n",
       "       126.69845822, 137.37645312, 162.3882514 , 162.96968459,\n",
       "       125.70134756, 182.87814716, 112.50349217,  80.3519515 ,\n",
       "       118.676172  ,  85.87091315, 100.7479767 , 133.6684905 ,\n",
       "       320.96099213, 184.88676045, 151.84864623, 213.26225442,\n",
       "       240.32081636, 117.2343788 , 104.03410412,  73.01468012,\n",
       "        68.16287152, 121.82167629,  94.52236613, 104.73290799,\n",
       "       153.72808893, 133.0056771 , 175.04357448, 120.12395518,\n",
       "       178.42122479, 175.51193393, 173.08154086, 100.36649536,\n",
       "       112.16208568, 144.86167816, 121.51234457, 112.65882731,\n",
       "       161.59599456, 108.50934213, 157.27788765, 204.81961608,\n",
       "       192.41989475, 113.4063788 , 143.12129572, 105.01449359,\n",
       "       208.77720141, 143.72001335,  85.34117815,  66.50746875,\n",
       "       151.82643905, 142.63575017, 153.91191277])"
      ]
     },
     "execution_count": 76,
     "metadata": {},
     "output_type": "execute_result"
    }
   ],
   "source": [
    "pred"
   ]
  },
  {
   "cell_type": "code",
   "execution_count": 77,
   "id": "f4dfdddd",
   "metadata": {},
   "outputs": [],
   "source": [
    "Actual_Amt['predictions']=pred"
   ]
  },
  {
   "cell_type": "code",
   "execution_count": 78,
   "id": "db5c688d",
   "metadata": {},
   "outputs": [
    {
     "data": {
      "text/html": [
       "<div>\n",
       "<style scoped>\n",
       "    .dataframe tbody tr th:only-of-type {\n",
       "        vertical-align: middle;\n",
       "    }\n",
       "\n",
       "    .dataframe tbody tr th {\n",
       "        vertical-align: top;\n",
       "    }\n",
       "\n",
       "    .dataframe thead th {\n",
       "        text-align: right;\n",
       "    }\n",
       "</style>\n",
       "<table border=\"1\" class=\"dataframe\">\n",
       "  <thead>\n",
       "    <tr style=\"text-align: right;\">\n",
       "      <th></th>\n",
       "      <th>LoanAmount</th>\n",
       "      <th>predictions</th>\n",
       "    </tr>\n",
       "  </thead>\n",
       "  <tbody>\n",
       "    <tr>\n",
       "      <th>0</th>\n",
       "      <td>147.000000</td>\n",
       "      <td>140.762829</td>\n",
       "    </tr>\n",
       "    <tr>\n",
       "      <th>1</th>\n",
       "      <td>166.000000</td>\n",
       "      <td>340.988870</td>\n",
       "    </tr>\n",
       "    <tr>\n",
       "      <th>2</th>\n",
       "      <td>148.000000</td>\n",
       "      <td>167.440096</td>\n",
       "    </tr>\n",
       "    <tr>\n",
       "      <th>3</th>\n",
       "      <td>176.000000</td>\n",
       "      <td>108.347165</td>\n",
       "    </tr>\n",
       "    <tr>\n",
       "      <th>4</th>\n",
       "      <td>130.000000</td>\n",
       "      <td>97.929890</td>\n",
       "    </tr>\n",
       "    <tr>\n",
       "      <th>5</th>\n",
       "      <td>176.000000</td>\n",
       "      <td>139.213751</td>\n",
       "    </tr>\n",
       "    <tr>\n",
       "      <th>6</th>\n",
       "      <td>108.000000</td>\n",
       "      <td>95.724106</td>\n",
       "    </tr>\n",
       "    <tr>\n",
       "      <th>7</th>\n",
       "      <td>135.000000</td>\n",
       "      <td>140.919795</td>\n",
       "    </tr>\n",
       "    <tr>\n",
       "      <th>8</th>\n",
       "      <td>130.000000</td>\n",
       "      <td>126.698458</td>\n",
       "    </tr>\n",
       "    <tr>\n",
       "      <th>9</th>\n",
       "      <td>188.000000</td>\n",
       "      <td>137.376453</td>\n",
       "    </tr>\n",
       "    <tr>\n",
       "      <th>10</th>\n",
       "      <td>163.000000</td>\n",
       "      <td>162.388251</td>\n",
       "    </tr>\n",
       "    <tr>\n",
       "      <th>11</th>\n",
       "      <td>149.000000</td>\n",
       "      <td>162.969685</td>\n",
       "    </tr>\n",
       "    <tr>\n",
       "      <th>12</th>\n",
       "      <td>131.000000</td>\n",
       "      <td>125.701348</td>\n",
       "    </tr>\n",
       "    <tr>\n",
       "      <th>13</th>\n",
       "      <td>123.000000</td>\n",
       "      <td>182.878147</td>\n",
       "    </tr>\n",
       "    <tr>\n",
       "      <th>14</th>\n",
       "      <td>136.132597</td>\n",
       "      <td>112.503492</td>\n",
       "    </tr>\n",
       "    <tr>\n",
       "      <th>15</th>\n",
       "      <td>119.000000</td>\n",
       "      <td>80.351952</td>\n",
       "    </tr>\n",
       "    <tr>\n",
       "      <th>16</th>\n",
       "      <td>80.000000</td>\n",
       "      <td>118.676172</td>\n",
       "    </tr>\n",
       "    <tr>\n",
       "      <th>17</th>\n",
       "      <td>104.000000</td>\n",
       "      <td>85.870913</td>\n",
       "    </tr>\n",
       "    <tr>\n",
       "      <th>18</th>\n",
       "      <td>213.000000</td>\n",
       "      <td>100.747977</td>\n",
       "    </tr>\n",
       "    <tr>\n",
       "      <th>19</th>\n",
       "      <td>187.000000</td>\n",
       "      <td>133.668491</td>\n",
       "    </tr>\n",
       "    <tr>\n",
       "      <th>20</th>\n",
       "      <td>300.000000</td>\n",
       "      <td>320.960992</td>\n",
       "    </tr>\n",
       "    <tr>\n",
       "      <th>21</th>\n",
       "      <td>71.000000</td>\n",
       "      <td>184.886760</td>\n",
       "    </tr>\n",
       "    <tr>\n",
       "      <th>22</th>\n",
       "      <td>150.000000</td>\n",
       "      <td>151.848646</td>\n",
       "    </tr>\n",
       "    <tr>\n",
       "      <th>23</th>\n",
       "      <td>139.000000</td>\n",
       "      <td>213.262254</td>\n",
       "    </tr>\n",
       "    <tr>\n",
       "      <th>24</th>\n",
       "      <td>199.000000</td>\n",
       "      <td>240.320816</td>\n",
       "    </tr>\n",
       "    <tr>\n",
       "      <th>25</th>\n",
       "      <td>117.000000</td>\n",
       "      <td>117.234379</td>\n",
       "    </tr>\n",
       "    <tr>\n",
       "      <th>26</th>\n",
       "      <td>84.000000</td>\n",
       "      <td>104.034104</td>\n",
       "    </tr>\n",
       "    <tr>\n",
       "      <th>27</th>\n",
       "      <td>170.000000</td>\n",
       "      <td>73.014680</td>\n",
       "    </tr>\n",
       "    <tr>\n",
       "      <th>28</th>\n",
       "      <td>120.000000</td>\n",
       "      <td>68.162872</td>\n",
       "    </tr>\n",
       "    <tr>\n",
       "      <th>29</th>\n",
       "      <td>94.000000</td>\n",
       "      <td>121.821676</td>\n",
       "    </tr>\n",
       "    <tr>\n",
       "      <th>30</th>\n",
       "      <td>159.000000</td>\n",
       "      <td>94.522366</td>\n",
       "    </tr>\n",
       "    <tr>\n",
       "      <th>31</th>\n",
       "      <td>110.000000</td>\n",
       "      <td>104.732908</td>\n",
       "    </tr>\n",
       "    <tr>\n",
       "      <th>32</th>\n",
       "      <td>180.000000</td>\n",
       "      <td>153.728089</td>\n",
       "    </tr>\n",
       "    <tr>\n",
       "      <th>33</th>\n",
       "      <td>128.000000</td>\n",
       "      <td>133.005677</td>\n",
       "    </tr>\n",
       "    <tr>\n",
       "      <th>34</th>\n",
       "      <td>114.000000</td>\n",
       "      <td>175.043574</td>\n",
       "    </tr>\n",
       "    <tr>\n",
       "      <th>35</th>\n",
       "      <td>104.000000</td>\n",
       "      <td>120.123955</td>\n",
       "    </tr>\n",
       "    <tr>\n",
       "      <th>36</th>\n",
       "      <td>200.000000</td>\n",
       "      <td>178.421225</td>\n",
       "    </tr>\n",
       "    <tr>\n",
       "      <th>37</th>\n",
       "      <td>187.000000</td>\n",
       "      <td>175.511934</td>\n",
       "    </tr>\n",
       "    <tr>\n",
       "      <th>38</th>\n",
       "      <td>125.000000</td>\n",
       "      <td>173.081541</td>\n",
       "    </tr>\n",
       "    <tr>\n",
       "      <th>39</th>\n",
       "      <td>176.000000</td>\n",
       "      <td>100.366495</td>\n",
       "    </tr>\n",
       "    <tr>\n",
       "      <th>40</th>\n",
       "      <td>117.000000</td>\n",
       "      <td>112.162086</td>\n",
       "    </tr>\n",
       "    <tr>\n",
       "      <th>41</th>\n",
       "      <td>105.000000</td>\n",
       "      <td>144.861678</td>\n",
       "    </tr>\n",
       "    <tr>\n",
       "      <th>42</th>\n",
       "      <td>125.000000</td>\n",
       "      <td>121.512345</td>\n",
       "    </tr>\n",
       "    <tr>\n",
       "      <th>43</th>\n",
       "      <td>150.000000</td>\n",
       "      <td>112.658827</td>\n",
       "    </tr>\n",
       "    <tr>\n",
       "      <th>44</th>\n",
       "      <td>142.000000</td>\n",
       "      <td>161.595995</td>\n",
       "    </tr>\n",
       "    <tr>\n",
       "      <th>45</th>\n",
       "      <td>123.000000</td>\n",
       "      <td>108.509342</td>\n",
       "    </tr>\n",
       "    <tr>\n",
       "      <th>46</th>\n",
       "      <td>112.000000</td>\n",
       "      <td>157.277888</td>\n",
       "    </tr>\n",
       "    <tr>\n",
       "      <th>47</th>\n",
       "      <td>49.000000</td>\n",
       "      <td>204.819616</td>\n",
       "    </tr>\n",
       "    <tr>\n",
       "      <th>48</th>\n",
       "      <td>130.000000</td>\n",
       "      <td>192.419895</td>\n",
       "    </tr>\n",
       "    <tr>\n",
       "      <th>49</th>\n",
       "      <td>94.000000</td>\n",
       "      <td>113.406379</td>\n",
       "    </tr>\n",
       "    <tr>\n",
       "      <th>50</th>\n",
       "      <td>176.000000</td>\n",
       "      <td>143.121296</td>\n",
       "    </tr>\n",
       "    <tr>\n",
       "      <th>51</th>\n",
       "      <td>88.000000</td>\n",
       "      <td>105.014494</td>\n",
       "    </tr>\n",
       "    <tr>\n",
       "      <th>52</th>\n",
       "      <td>125.000000</td>\n",
       "      <td>208.777201</td>\n",
       "    </tr>\n",
       "    <tr>\n",
       "      <th>53</th>\n",
       "      <td>153.000000</td>\n",
       "      <td>143.720013</td>\n",
       "    </tr>\n",
       "    <tr>\n",
       "      <th>54</th>\n",
       "      <td>67.000000</td>\n",
       "      <td>85.341178</td>\n",
       "    </tr>\n",
       "    <tr>\n",
       "      <th>55</th>\n",
       "      <td>95.000000</td>\n",
       "      <td>66.507469</td>\n",
       "    </tr>\n",
       "    <tr>\n",
       "      <th>56</th>\n",
       "      <td>162.000000</td>\n",
       "      <td>151.826439</td>\n",
       "    </tr>\n",
       "    <tr>\n",
       "      <th>57</th>\n",
       "      <td>133.000000</td>\n",
       "      <td>142.635750</td>\n",
       "    </tr>\n",
       "    <tr>\n",
       "      <th>58</th>\n",
       "      <td>158.000000</td>\n",
       "      <td>153.911913</td>\n",
       "    </tr>\n",
       "  </tbody>\n",
       "</table>\n",
       "</div>"
      ],
      "text/plain": [
       "    LoanAmount  predictions\n",
       "0   147.000000   140.762829\n",
       "1   166.000000   340.988870\n",
       "2   148.000000   167.440096\n",
       "3   176.000000   108.347165\n",
       "4   130.000000    97.929890\n",
       "5   176.000000   139.213751\n",
       "6   108.000000    95.724106\n",
       "7   135.000000   140.919795\n",
       "8   130.000000   126.698458\n",
       "9   188.000000   137.376453\n",
       "10  163.000000   162.388251\n",
       "11  149.000000   162.969685\n",
       "12  131.000000   125.701348\n",
       "13  123.000000   182.878147\n",
       "14  136.132597   112.503492\n",
       "15  119.000000    80.351952\n",
       "16   80.000000   118.676172\n",
       "17  104.000000    85.870913\n",
       "18  213.000000   100.747977\n",
       "19  187.000000   133.668491\n",
       "20  300.000000   320.960992\n",
       "21   71.000000   184.886760\n",
       "22  150.000000   151.848646\n",
       "23  139.000000   213.262254\n",
       "24  199.000000   240.320816\n",
       "25  117.000000   117.234379\n",
       "26   84.000000   104.034104\n",
       "27  170.000000    73.014680\n",
       "28  120.000000    68.162872\n",
       "29   94.000000   121.821676\n",
       "30  159.000000    94.522366\n",
       "31  110.000000   104.732908\n",
       "32  180.000000   153.728089\n",
       "33  128.000000   133.005677\n",
       "34  114.000000   175.043574\n",
       "35  104.000000   120.123955\n",
       "36  200.000000   178.421225\n",
       "37  187.000000   175.511934\n",
       "38  125.000000   173.081541\n",
       "39  176.000000   100.366495\n",
       "40  117.000000   112.162086\n",
       "41  105.000000   144.861678\n",
       "42  125.000000   121.512345\n",
       "43  150.000000   112.658827\n",
       "44  142.000000   161.595995\n",
       "45  123.000000   108.509342\n",
       "46  112.000000   157.277888\n",
       "47   49.000000   204.819616\n",
       "48  130.000000   192.419895\n",
       "49   94.000000   113.406379\n",
       "50  176.000000   143.121296\n",
       "51   88.000000   105.014494\n",
       "52  125.000000   208.777201\n",
       "53  153.000000   143.720013\n",
       "54   67.000000    85.341178\n",
       "55   95.000000    66.507469\n",
       "56  162.000000   151.826439\n",
       "57  133.000000   142.635750\n",
       "58  158.000000   153.911913"
      ]
     },
     "execution_count": 78,
     "metadata": {},
     "output_type": "execute_result"
    }
   ],
   "source": [
    "Actual_Vs_Predicted = Actual_Amt\n",
    "Actual_Vs_Predicted"
   ]
  },
  {
   "cell_type": "code",
   "execution_count": 79,
   "id": "79b8d1c7",
   "metadata": {},
   "outputs": [],
   "source": [
    "Actual_Vs_Predicted.to_csv(\"New_Amt_predictions.csv\")"
   ]
  },
  {
   "cell_type": "markdown",
   "id": "2114597b",
   "metadata": {},
   "source": [
    "# Problem statement 3(B)"
   ]
  },
  {
   "cell_type": "raw",
   "id": "c3968a36",
   "metadata": {},
   "source": [
    "# if duration is less than equal to 20 years, is customer eligible for required amount for some longer duration? What is that duration?(Regression)¶"
   ]
  },
  {
   "cell_type": "markdown",
   "id": "c0770e78",
   "metadata": {},
   "source": [
    "# Prepare data for prediction(from testing set)"
   ]
  },
  {
   "cell_type": "code",
   "execution_count": 80,
   "id": "9b2d82d9",
   "metadata": {},
   "outputs": [],
   "source": [
    "B['Duration']=B.Loan_Amount_Term/12 # Loan_amount_term in Years"
   ]
  },
  {
   "cell_type": "code",
   "execution_count": 81,
   "id": "054475f5",
   "metadata": {},
   "outputs": [],
   "source": [
    "Data_for_pred=B[(B.Duration <= 20) & (B.Loan_Status==\"Y\")] # people whose loan amt approved for less tha equal to 20 years"
   ]
  },
  {
   "cell_type": "code",
   "execution_count": 82,
   "id": "3c8a8bf0",
   "metadata": {},
   "outputs": [],
   "source": [
    "Data_for_pred_final = Data_for_pred.drop(labels=['Duration','Loan_ID','Loan_Status',\"Loan_Amount_Term\"],axis=1)\n",
    "#Drop unnecessary columns"
   ]
  },
  {
   "cell_type": "code",
   "execution_count": 83,
   "id": "3cde2019",
   "metadata": {},
   "outputs": [],
   "source": [
    "Data_for_pred_final.index = range(0,Data_for_pred_final.shape[0]) #Reinitialize the index"
   ]
  },
  {
   "cell_type": "code",
   "execution_count": 84,
   "id": "d0228a2a",
   "metadata": {},
   "outputs": [
    {
     "data": {
      "text/html": [
       "<div>\n",
       "<style scoped>\n",
       "    .dataframe tbody tr th:only-of-type {\n",
       "        vertical-align: middle;\n",
       "    }\n",
       "\n",
       "    .dataframe tbody tr th {\n",
       "        vertical-align: top;\n",
       "    }\n",
       "\n",
       "    .dataframe thead th {\n",
       "        text-align: right;\n",
       "    }\n",
       "</style>\n",
       "<table border=\"1\" class=\"dataframe\">\n",
       "  <thead>\n",
       "    <tr style=\"text-align: right;\">\n",
       "      <th></th>\n",
       "      <th>Gender</th>\n",
       "      <th>Married</th>\n",
       "      <th>Dependents</th>\n",
       "      <th>Education</th>\n",
       "      <th>Self_Employed</th>\n",
       "      <th>ApplicantIncome</th>\n",
       "      <th>CoapplicantIncome</th>\n",
       "      <th>LoanAmount</th>\n",
       "      <th>Credit_History</th>\n",
       "      <th>Property_Area</th>\n",
       "    </tr>\n",
       "  </thead>\n",
       "  <tbody>\n",
       "    <tr>\n",
       "      <th>0</th>\n",
       "      <td>Male</td>\n",
       "      <td>Yes</td>\n",
       "      <td>2</td>\n",
       "      <td>Graduate</td>\n",
       "      <td>No</td>\n",
       "      <td>13633</td>\n",
       "      <td>0</td>\n",
       "      <td>280.0</td>\n",
       "      <td>1.000000</td>\n",
       "      <td>Urban</td>\n",
       "    </tr>\n",
       "    <tr>\n",
       "      <th>1</th>\n",
       "      <td>Male</td>\n",
       "      <td>No</td>\n",
       "      <td>3+</td>\n",
       "      <td>Graduate</td>\n",
       "      <td>No</td>\n",
       "      <td>4166</td>\n",
       "      <td>0</td>\n",
       "      <td>40.0</td>\n",
       "      <td>0.825444</td>\n",
       "      <td>Urban</td>\n",
       "    </tr>\n",
       "  </tbody>\n",
       "</table>\n",
       "</div>"
      ],
      "text/plain": [
       "  Gender Married Dependents Education Self_Employed  ApplicantIncome  \\\n",
       "0   Male     Yes          2  Graduate            No            13633   \n",
       "1   Male      No         3+  Graduate            No             4166   \n",
       "\n",
       "   CoapplicantIncome  LoanAmount  Credit_History Property_Area  \n",
       "0                  0       280.0        1.000000         Urban  \n",
       "1                  0        40.0        0.825444         Urban  "
      ]
     },
     "execution_count": 84,
     "metadata": {},
     "output_type": "execute_result"
    }
   ],
   "source": [
    "Data_for_pred_final.head(2) # we get people loan approved less than = 20 years"
   ]
  },
  {
   "cell_type": "markdown",
   "id": "39389ac9",
   "metadata": {},
   "source": [
    "# Prepare training data"
   ]
  },
  {
   "cell_type": "code",
   "execution_count": 85,
   "id": "78a7f411",
   "metadata": {},
   "outputs": [],
   "source": [
    "T = A[A.Loan_Status == \"Y\"] # people with approved loan amount\n",
    "T1 = T[Data_for_pred_final.columns] # rename column names from Data_for_pred_final\n",
    "T1.index = range(0,T1.shape[0])"
   ]
  },
  {
   "cell_type": "code",
   "execution_count": 86,
   "id": "e958adf4",
   "metadata": {},
   "outputs": [
    {
     "data": {
      "text/html": [
       "<div>\n",
       "<style scoped>\n",
       "    .dataframe tbody tr th:only-of-type {\n",
       "        vertical-align: middle;\n",
       "    }\n",
       "\n",
       "    .dataframe tbody tr th {\n",
       "        vertical-align: top;\n",
       "    }\n",
       "\n",
       "    .dataframe thead th {\n",
       "        text-align: right;\n",
       "    }\n",
       "</style>\n",
       "<table border=\"1\" class=\"dataframe\">\n",
       "  <thead>\n",
       "    <tr style=\"text-align: right;\">\n",
       "      <th></th>\n",
       "      <th>Gender</th>\n",
       "      <th>Married</th>\n",
       "      <th>Dependents</th>\n",
       "      <th>Education</th>\n",
       "      <th>Self_Employed</th>\n",
       "      <th>ApplicantIncome</th>\n",
       "      <th>CoapplicantIncome</th>\n",
       "      <th>LoanAmount</th>\n",
       "      <th>Credit_History</th>\n",
       "      <th>Property_Area</th>\n",
       "    </tr>\n",
       "  </thead>\n",
       "  <tbody>\n",
       "    <tr>\n",
       "      <th>0</th>\n",
       "      <td>Male</td>\n",
       "      <td>No</td>\n",
       "      <td>0</td>\n",
       "      <td>Graduate</td>\n",
       "      <td>No</td>\n",
       "      <td>5849.0</td>\n",
       "      <td>0.0</td>\n",
       "      <td>146.412162</td>\n",
       "      <td>1.0</td>\n",
       "      <td>Urban</td>\n",
       "    </tr>\n",
       "    <tr>\n",
       "      <th>1</th>\n",
       "      <td>Male</td>\n",
       "      <td>Yes</td>\n",
       "      <td>0</td>\n",
       "      <td>Graduate</td>\n",
       "      <td>Yes</td>\n",
       "      <td>3000.0</td>\n",
       "      <td>0.0</td>\n",
       "      <td>66.000000</td>\n",
       "      <td>1.0</td>\n",
       "      <td>Urban</td>\n",
       "    </tr>\n",
       "    <tr>\n",
       "      <th>2</th>\n",
       "      <td>Male</td>\n",
       "      <td>Yes</td>\n",
       "      <td>0</td>\n",
       "      <td>Not Graduate</td>\n",
       "      <td>No</td>\n",
       "      <td>2583.0</td>\n",
       "      <td>2358.0</td>\n",
       "      <td>120.000000</td>\n",
       "      <td>1.0</td>\n",
       "      <td>Urban</td>\n",
       "    </tr>\n",
       "    <tr>\n",
       "      <th>3</th>\n",
       "      <td>Male</td>\n",
       "      <td>No</td>\n",
       "      <td>0</td>\n",
       "      <td>Graduate</td>\n",
       "      <td>No</td>\n",
       "      <td>6000.0</td>\n",
       "      <td>0.0</td>\n",
       "      <td>141.000000</td>\n",
       "      <td>1.0</td>\n",
       "      <td>Urban</td>\n",
       "    </tr>\n",
       "    <tr>\n",
       "      <th>4</th>\n",
       "      <td>Male</td>\n",
       "      <td>Yes</td>\n",
       "      <td>2</td>\n",
       "      <td>Graduate</td>\n",
       "      <td>Yes</td>\n",
       "      <td>5417.0</td>\n",
       "      <td>4196.0</td>\n",
       "      <td>267.000000</td>\n",
       "      <td>1.0</td>\n",
       "      <td>Urban</td>\n",
       "    </tr>\n",
       "    <tr>\n",
       "      <th>...</th>\n",
       "      <td>...</td>\n",
       "      <td>...</td>\n",
       "      <td>...</td>\n",
       "      <td>...</td>\n",
       "      <td>...</td>\n",
       "      <td>...</td>\n",
       "      <td>...</td>\n",
       "      <td>...</td>\n",
       "      <td>...</td>\n",
       "      <td>...</td>\n",
       "    </tr>\n",
       "    <tr>\n",
       "      <th>417</th>\n",
       "      <td>Male</td>\n",
       "      <td>Yes</td>\n",
       "      <td>0</td>\n",
       "      <td>Graduate</td>\n",
       "      <td>No</td>\n",
       "      <td>3232.0</td>\n",
       "      <td>1950.0</td>\n",
       "      <td>108.000000</td>\n",
       "      <td>1.0</td>\n",
       "      <td>Rural</td>\n",
       "    </tr>\n",
       "    <tr>\n",
       "      <th>418</th>\n",
       "      <td>Female</td>\n",
       "      <td>No</td>\n",
       "      <td>0</td>\n",
       "      <td>Graduate</td>\n",
       "      <td>No</td>\n",
       "      <td>2900.0</td>\n",
       "      <td>0.0</td>\n",
       "      <td>71.000000</td>\n",
       "      <td>1.0</td>\n",
       "      <td>Rural</td>\n",
       "    </tr>\n",
       "    <tr>\n",
       "      <th>419</th>\n",
       "      <td>Male</td>\n",
       "      <td>Yes</td>\n",
       "      <td>3+</td>\n",
       "      <td>Graduate</td>\n",
       "      <td>No</td>\n",
       "      <td>4106.0</td>\n",
       "      <td>0.0</td>\n",
       "      <td>40.000000</td>\n",
       "      <td>1.0</td>\n",
       "      <td>Rural</td>\n",
       "    </tr>\n",
       "    <tr>\n",
       "      <th>420</th>\n",
       "      <td>Male</td>\n",
       "      <td>Yes</td>\n",
       "      <td>1</td>\n",
       "      <td>Graduate</td>\n",
       "      <td>No</td>\n",
       "      <td>8072.0</td>\n",
       "      <td>240.0</td>\n",
       "      <td>253.000000</td>\n",
       "      <td>1.0</td>\n",
       "      <td>Urban</td>\n",
       "    </tr>\n",
       "    <tr>\n",
       "      <th>421</th>\n",
       "      <td>Male</td>\n",
       "      <td>Yes</td>\n",
       "      <td>2</td>\n",
       "      <td>Graduate</td>\n",
       "      <td>No</td>\n",
       "      <td>7583.0</td>\n",
       "      <td>0.0</td>\n",
       "      <td>187.000000</td>\n",
       "      <td>1.0</td>\n",
       "      <td>Urban</td>\n",
       "    </tr>\n",
       "  </tbody>\n",
       "</table>\n",
       "<p>422 rows × 10 columns</p>\n",
       "</div>"
      ],
      "text/plain": [
       "     Gender Married Dependents     Education Self_Employed  ApplicantIncome  \\\n",
       "0      Male      No          0      Graduate            No           5849.0   \n",
       "1      Male     Yes          0      Graduate           Yes           3000.0   \n",
       "2      Male     Yes          0  Not Graduate            No           2583.0   \n",
       "3      Male      No          0      Graduate            No           6000.0   \n",
       "4      Male     Yes          2      Graduate           Yes           5417.0   \n",
       "..      ...     ...        ...           ...           ...              ...   \n",
       "417    Male     Yes          0      Graduate            No           3232.0   \n",
       "418  Female      No          0      Graduate            No           2900.0   \n",
       "419    Male     Yes         3+      Graduate            No           4106.0   \n",
       "420    Male     Yes          1      Graduate            No           8072.0   \n",
       "421    Male     Yes          2      Graduate            No           7583.0   \n",
       "\n",
       "     CoapplicantIncome  LoanAmount  Credit_History Property_Area  \n",
       "0                  0.0  146.412162             1.0         Urban  \n",
       "1                  0.0   66.000000             1.0         Urban  \n",
       "2               2358.0  120.000000             1.0         Urban  \n",
       "3                  0.0  141.000000             1.0         Urban  \n",
       "4               4196.0  267.000000             1.0         Urban  \n",
       "..                 ...         ...             ...           ...  \n",
       "417             1950.0  108.000000             1.0         Rural  \n",
       "418                0.0   71.000000             1.0         Rural  \n",
       "419                0.0   40.000000             1.0         Rural  \n",
       "420              240.0  253.000000             1.0         Urban  \n",
       "421                0.0  187.000000             1.0         Urban  \n",
       "\n",
       "[422 rows x 10 columns]"
      ]
     },
     "execution_count": 86,
     "metadata": {},
     "output_type": "execute_result"
    }
   ],
   "source": [
    "T1 # training data with approved loan"
   ]
  },
  {
   "cell_type": "code",
   "execution_count": 87,
   "id": "bdf721f6",
   "metadata": {},
   "outputs": [],
   "source": [
    "xtrain = preprocessing(T1)"
   ]
  },
  {
   "cell_type": "code",
   "execution_count": 88,
   "id": "fdaadae3",
   "metadata": {},
   "outputs": [
    {
     "data": {
      "text/plain": [
       "(422, 19)"
      ]
     },
     "execution_count": 88,
     "metadata": {},
     "output_type": "execute_result"
    }
   ],
   "source": [
    "xtrain.shape"
   ]
  },
  {
   "cell_type": "code",
   "execution_count": 89,
   "id": "a0083b7f",
   "metadata": {},
   "outputs": [],
   "source": [
    "ytrain = T[[\"Loan_Amount_Term\"]]"
   ]
  },
  {
   "cell_type": "code",
   "execution_count": 90,
   "id": "44bcc9cb",
   "metadata": {},
   "outputs": [
    {
     "data": {
      "text/plain": [
       "(422, 1)"
      ]
     },
     "execution_count": 90,
     "metadata": {},
     "output_type": "execute_result"
    }
   ],
   "source": [
    "ytrain.shape"
   ]
  },
  {
   "cell_type": "code",
   "execution_count": 91,
   "id": "74c9bae0",
   "metadata": {},
   "outputs": [],
   "source": [
    "ytrain.index = range(0,ytrain.shape[0])"
   ]
  },
  {
   "cell_type": "code",
   "execution_count": 92,
   "id": "8353b900",
   "metadata": {},
   "outputs": [
    {
     "data": {
      "text/html": [
       "<div>\n",
       "<style scoped>\n",
       "    .dataframe tbody tr th:only-of-type {\n",
       "        vertical-align: middle;\n",
       "    }\n",
       "\n",
       "    .dataframe tbody tr th {\n",
       "        vertical-align: top;\n",
       "    }\n",
       "\n",
       "    .dataframe thead th {\n",
       "        text-align: right;\n",
       "    }\n",
       "</style>\n",
       "<table border=\"1\" class=\"dataframe\">\n",
       "  <thead>\n",
       "    <tr style=\"text-align: right;\">\n",
       "      <th></th>\n",
       "      <th>ApplicantIncome</th>\n",
       "      <th>CoapplicantIncome</th>\n",
       "      <th>LoanAmount</th>\n",
       "      <th>Credit_History</th>\n",
       "      <th>Gender_Female</th>\n",
       "      <th>Gender_Male</th>\n",
       "      <th>Married_No</th>\n",
       "      <th>Married_Yes</th>\n",
       "      <th>Dependents_0</th>\n",
       "      <th>Dependents_1</th>\n",
       "      <th>Dependents_2</th>\n",
       "      <th>Dependents_3+</th>\n",
       "      <th>Education_Graduate</th>\n",
       "      <th>Education_Not Graduate</th>\n",
       "      <th>Self_Employed_No</th>\n",
       "      <th>Self_Employed_Yes</th>\n",
       "      <th>Property_Area_Rural</th>\n",
       "      <th>Property_Area_Semiurban</th>\n",
       "      <th>Property_Area_Urban</th>\n",
       "    </tr>\n",
       "  </thead>\n",
       "  <tbody>\n",
       "    <tr>\n",
       "      <th>0</th>\n",
       "      <td>3.286495</td>\n",
       "      <td>-0.798641</td>\n",
       "      <td>2.950151</td>\n",
       "      <td>0.272166</td>\n",
       "      <td>0</td>\n",
       "      <td>1</td>\n",
       "      <td>0</td>\n",
       "      <td>1</td>\n",
       "      <td>0</td>\n",
       "      <td>0</td>\n",
       "      <td>1</td>\n",
       "      <td>0</td>\n",
       "      <td>1</td>\n",
       "      <td>0</td>\n",
       "      <td>1</td>\n",
       "      <td>0</td>\n",
       "      <td>0</td>\n",
       "      <td>0</td>\n",
       "      <td>1</td>\n",
       "    </tr>\n",
       "    <tr>\n",
       "      <th>1</th>\n",
       "      <td>-0.082500</td>\n",
       "      <td>-0.798641</td>\n",
       "      <td>-1.108566</td>\n",
       "      <td>-3.674235</td>\n",
       "      <td>0</td>\n",
       "      <td>1</td>\n",
       "      <td>1</td>\n",
       "      <td>0</td>\n",
       "      <td>0</td>\n",
       "      <td>0</td>\n",
       "      <td>0</td>\n",
       "      <td>1</td>\n",
       "      <td>1</td>\n",
       "      <td>0</td>\n",
       "      <td>1</td>\n",
       "      <td>0</td>\n",
       "      <td>0</td>\n",
       "      <td>0</td>\n",
       "      <td>1</td>\n",
       "    </tr>\n",
       "    <tr>\n",
       "      <th>2</th>\n",
       "      <td>-1.102415</td>\n",
       "      <td>0.995712</td>\n",
       "      <td>-0.093887</td>\n",
       "      <td>0.272166</td>\n",
       "      <td>0</td>\n",
       "      <td>1</td>\n",
       "      <td>1</td>\n",
       "      <td>0</td>\n",
       "      <td>1</td>\n",
       "      <td>0</td>\n",
       "      <td>0</td>\n",
       "      <td>0</td>\n",
       "      <td>1</td>\n",
       "      <td>0</td>\n",
       "      <td>1</td>\n",
       "      <td>0</td>\n",
       "      <td>0</td>\n",
       "      <td>1</td>\n",
       "      <td>0</td>\n",
       "    </tr>\n",
       "    <tr>\n",
       "      <th>3</th>\n",
       "      <td>-0.823771</td>\n",
       "      <td>-0.798641</td>\n",
       "      <td>-1.311502</td>\n",
       "      <td>0.272166</td>\n",
       "      <td>1</td>\n",
       "      <td>0</td>\n",
       "      <td>1</td>\n",
       "      <td>0</td>\n",
       "      <td>0</td>\n",
       "      <td>0</td>\n",
       "      <td>0</td>\n",
       "      <td>1</td>\n",
       "      <td>0</td>\n",
       "      <td>1</td>\n",
       "      <td>1</td>\n",
       "      <td>0</td>\n",
       "      <td>0</td>\n",
       "      <td>0</td>\n",
       "      <td>1</td>\n",
       "    </tr>\n",
       "    <tr>\n",
       "      <th>4</th>\n",
       "      <td>-0.518081</td>\n",
       "      <td>0.433102</td>\n",
       "      <td>0.328896</td>\n",
       "      <td>0.272166</td>\n",
       "      <td>0</td>\n",
       "      <td>1</td>\n",
       "      <td>1</td>\n",
       "      <td>0</td>\n",
       "      <td>1</td>\n",
       "      <td>0</td>\n",
       "      <td>0</td>\n",
       "      <td>0</td>\n",
       "      <td>1</td>\n",
       "      <td>0</td>\n",
       "      <td>1</td>\n",
       "      <td>0</td>\n",
       "      <td>0</td>\n",
       "      <td>0</td>\n",
       "      <td>1</td>\n",
       "    </tr>\n",
       "    <tr>\n",
       "      <th>5</th>\n",
       "      <td>1.050581</td>\n",
       "      <td>1.284773</td>\n",
       "      <td>1.343575</td>\n",
       "      <td>0.272166</td>\n",
       "      <td>0</td>\n",
       "      <td>1</td>\n",
       "      <td>0</td>\n",
       "      <td>1</td>\n",
       "      <td>0</td>\n",
       "      <td>0</td>\n",
       "      <td>1</td>\n",
       "      <td>0</td>\n",
       "      <td>1</td>\n",
       "      <td>0</td>\n",
       "      <td>1</td>\n",
       "      <td>0</td>\n",
       "      <td>0</td>\n",
       "      <td>0</td>\n",
       "      <td>1</td>\n",
       "    </tr>\n",
       "    <tr>\n",
       "      <th>6</th>\n",
       "      <td>-0.100293</td>\n",
       "      <td>-0.281537</td>\n",
       "      <td>-1.277679</td>\n",
       "      <td>0.272166</td>\n",
       "      <td>0</td>\n",
       "      <td>1</td>\n",
       "      <td>0</td>\n",
       "      <td>1</td>\n",
       "      <td>0</td>\n",
       "      <td>0</td>\n",
       "      <td>1</td>\n",
       "      <td>0</td>\n",
       "      <td>1</td>\n",
       "      <td>0</td>\n",
       "      <td>1</td>\n",
       "      <td>0</td>\n",
       "      <td>0</td>\n",
       "      <td>0</td>\n",
       "      <td>1</td>\n",
       "    </tr>\n",
       "    <tr>\n",
       "      <th>7</th>\n",
       "      <td>-0.279294</td>\n",
       "      <td>1.031392</td>\n",
       "      <td>0.481098</td>\n",
       "      <td>0.272166</td>\n",
       "      <td>0</td>\n",
       "      <td>1</td>\n",
       "      <td>0</td>\n",
       "      <td>1</td>\n",
       "      <td>0</td>\n",
       "      <td>0</td>\n",
       "      <td>1</td>\n",
       "      <td>0</td>\n",
       "      <td>1</td>\n",
       "      <td>0</td>\n",
       "      <td>1</td>\n",
       "      <td>0</td>\n",
       "      <td>0</td>\n",
       "      <td>1</td>\n",
       "      <td>0</td>\n",
       "    </tr>\n",
       "    <tr>\n",
       "      <th>8</th>\n",
       "      <td>0.114651</td>\n",
       "      <td>-0.798641</td>\n",
       "      <td>-0.263000</td>\n",
       "      <td>0.272166</td>\n",
       "      <td>0</td>\n",
       "      <td>1</td>\n",
       "      <td>0</td>\n",
       "      <td>1</td>\n",
       "      <td>0</td>\n",
       "      <td>0</td>\n",
       "      <td>0</td>\n",
       "      <td>1</td>\n",
       "      <td>1</td>\n",
       "      <td>0</td>\n",
       "      <td>1</td>\n",
       "      <td>0</td>\n",
       "      <td>0</td>\n",
       "      <td>1</td>\n",
       "      <td>0</td>\n",
       "    </tr>\n",
       "    <tr>\n",
       "      <th>9</th>\n",
       "      <td>-0.112037</td>\n",
       "      <td>0.119219</td>\n",
       "      <td>0.565655</td>\n",
       "      <td>0.272166</td>\n",
       "      <td>0</td>\n",
       "      <td>1</td>\n",
       "      <td>0</td>\n",
       "      <td>1</td>\n",
       "      <td>0</td>\n",
       "      <td>1</td>\n",
       "      <td>0</td>\n",
       "      <td>0</td>\n",
       "      <td>1</td>\n",
       "      <td>0</td>\n",
       "      <td>1</td>\n",
       "      <td>0</td>\n",
       "      <td>0</td>\n",
       "      <td>0</td>\n",
       "      <td>1</td>\n",
       "    </tr>\n",
       "    <tr>\n",
       "      <th>10</th>\n",
       "      <td>0.084402</td>\n",
       "      <td>3.338195</td>\n",
       "      <td>-0.060064</td>\n",
       "      <td>0.272166</td>\n",
       "      <td>0</td>\n",
       "      <td>1</td>\n",
       "      <td>0</td>\n",
       "      <td>1</td>\n",
       "      <td>0</td>\n",
       "      <td>0</td>\n",
       "      <td>1</td>\n",
       "      <td>0</td>\n",
       "      <td>1</td>\n",
       "      <td>0</td>\n",
       "      <td>1</td>\n",
       "      <td>0</td>\n",
       "      <td>1</td>\n",
       "      <td>0</td>\n",
       "      <td>0</td>\n",
       "    </tr>\n",
       "    <tr>\n",
       "      <th>11</th>\n",
       "      <td>-0.608827</td>\n",
       "      <td>-0.798641</td>\n",
       "      <td>-0.939453</td>\n",
       "      <td>0.272166</td>\n",
       "      <td>0</td>\n",
       "      <td>1</td>\n",
       "      <td>0</td>\n",
       "      <td>1</td>\n",
       "      <td>0</td>\n",
       "      <td>0</td>\n",
       "      <td>1</td>\n",
       "      <td>0</td>\n",
       "      <td>0</td>\n",
       "      <td>1</td>\n",
       "      <td>1</td>\n",
       "      <td>0</td>\n",
       "      <td>1</td>\n",
       "      <td>0</td>\n",
       "      <td>0</td>\n",
       "    </tr>\n",
       "    <tr>\n",
       "      <th>12</th>\n",
       "      <td>-0.471463</td>\n",
       "      <td>-0.798641</td>\n",
       "      <td>-0.601227</td>\n",
       "      <td>0.272166</td>\n",
       "      <td>0</td>\n",
       "      <td>1</td>\n",
       "      <td>1</td>\n",
       "      <td>0</td>\n",
       "      <td>1</td>\n",
       "      <td>0</td>\n",
       "      <td>0</td>\n",
       "      <td>0</td>\n",
       "      <td>1</td>\n",
       "      <td>0</td>\n",
       "      <td>1</td>\n",
       "      <td>0</td>\n",
       "      <td>0</td>\n",
       "      <td>0</td>\n",
       "      <td>1</td>\n",
       "    </tr>\n",
       "    <tr>\n",
       "      <th>13</th>\n",
       "      <td>-0.141574</td>\n",
       "      <td>-0.798641</td>\n",
       "      <td>-0.381379</td>\n",
       "      <td>0.272166</td>\n",
       "      <td>0</td>\n",
       "      <td>1</td>\n",
       "      <td>1</td>\n",
       "      <td>0</td>\n",
       "      <td>1</td>\n",
       "      <td>0</td>\n",
       "      <td>0</td>\n",
       "      <td>0</td>\n",
       "      <td>1</td>\n",
       "      <td>0</td>\n",
       "      <td>1</td>\n",
       "      <td>0</td>\n",
       "      <td>0</td>\n",
       "      <td>0</td>\n",
       "      <td>1</td>\n",
       "    </tr>\n",
       "    <tr>\n",
       "      <th>14</th>\n",
       "      <td>-0.465769</td>\n",
       "      <td>0.752155</td>\n",
       "      <td>-0.093887</td>\n",
       "      <td>0.272166</td>\n",
       "      <td>0</td>\n",
       "      <td>1</td>\n",
       "      <td>0</td>\n",
       "      <td>1</td>\n",
       "      <td>0</td>\n",
       "      <td>0</td>\n",
       "      <td>0</td>\n",
       "      <td>1</td>\n",
       "      <td>1</td>\n",
       "      <td>0</td>\n",
       "      <td>1</td>\n",
       "      <td>0</td>\n",
       "      <td>1</td>\n",
       "      <td>0</td>\n",
       "      <td>0</td>\n",
       "    </tr>\n",
       "    <tr>\n",
       "      <th>15</th>\n",
       "      <td>2.310351</td>\n",
       "      <td>-0.798641</td>\n",
       "      <td>2.611924</td>\n",
       "      <td>0.272166</td>\n",
       "      <td>0</td>\n",
       "      <td>1</td>\n",
       "      <td>0</td>\n",
       "      <td>1</td>\n",
       "      <td>0</td>\n",
       "      <td>0</td>\n",
       "      <td>1</td>\n",
       "      <td>0</td>\n",
       "      <td>1</td>\n",
       "      <td>0</td>\n",
       "      <td>0</td>\n",
       "      <td>1</td>\n",
       "      <td>1</td>\n",
       "      <td>0</td>\n",
       "      <td>0</td>\n",
       "    </tr>\n",
       "    <tr>\n",
       "      <th>16</th>\n",
       "      <td>-0.433385</td>\n",
       "      <td>0.426897</td>\n",
       "      <td>-0.432113</td>\n",
       "      <td>-3.674235</td>\n",
       "      <td>0</td>\n",
       "      <td>1</td>\n",
       "      <td>1</td>\n",
       "      <td>0</td>\n",
       "      <td>0</td>\n",
       "      <td>1</td>\n",
       "      <td>0</td>\n",
       "      <td>0</td>\n",
       "      <td>1</td>\n",
       "      <td>0</td>\n",
       "      <td>1</td>\n",
       "      <td>0</td>\n",
       "      <td>1</td>\n",
       "      <td>0</td>\n",
       "      <td>0</td>\n",
       "    </tr>\n",
       "    <tr>\n",
       "      <th>17</th>\n",
       "      <td>-0.023070</td>\n",
       "      <td>-0.798641</td>\n",
       "      <td>0.447275</td>\n",
       "      <td>0.272166</td>\n",
       "      <td>1</td>\n",
       "      <td>0</td>\n",
       "      <td>0</td>\n",
       "      <td>1</td>\n",
       "      <td>0</td>\n",
       "      <td>1</td>\n",
       "      <td>0</td>\n",
       "      <td>0</td>\n",
       "      <td>1</td>\n",
       "      <td>0</td>\n",
       "      <td>1</td>\n",
       "      <td>0</td>\n",
       "      <td>1</td>\n",
       "      <td>0</td>\n",
       "      <td>0</td>\n",
       "    </tr>\n",
       "    <tr>\n",
       "      <th>18</th>\n",
       "      <td>-0.587475</td>\n",
       "      <td>0.472402</td>\n",
       "      <td>0.210517</td>\n",
       "      <td>0.272166</td>\n",
       "      <td>0</td>\n",
       "      <td>1</td>\n",
       "      <td>0</td>\n",
       "      <td>1</td>\n",
       "      <td>1</td>\n",
       "      <td>0</td>\n",
       "      <td>0</td>\n",
       "      <td>0</td>\n",
       "      <td>0</td>\n",
       "      <td>1</td>\n",
       "      <td>1</td>\n",
       "      <td>0</td>\n",
       "      <td>0</td>\n",
       "      <td>1</td>\n",
       "      <td>0</td>\n",
       "    </tr>\n",
       "    <tr>\n",
       "      <th>19</th>\n",
       "      <td>-1.147610</td>\n",
       "      <td>0.025623</td>\n",
       "      <td>-1.311502</td>\n",
       "      <td>0.272166</td>\n",
       "      <td>0</td>\n",
       "      <td>1</td>\n",
       "      <td>0</td>\n",
       "      <td>1</td>\n",
       "      <td>1</td>\n",
       "      <td>0</td>\n",
       "      <td>0</td>\n",
       "      <td>0</td>\n",
       "      <td>1</td>\n",
       "      <td>0</td>\n",
       "      <td>1</td>\n",
       "      <td>0</td>\n",
       "      <td>1</td>\n",
       "      <td>0</td>\n",
       "      <td>0</td>\n",
       "    </tr>\n",
       "    <tr>\n",
       "      <th>20</th>\n",
       "      <td>-0.524131</td>\n",
       "      <td>-0.798641</td>\n",
       "      <td>-1.108566</td>\n",
       "      <td>0.272166</td>\n",
       "      <td>0</td>\n",
       "      <td>1</td>\n",
       "      <td>1</td>\n",
       "      <td>0</td>\n",
       "      <td>1</td>\n",
       "      <td>0</td>\n",
       "      <td>0</td>\n",
       "      <td>0</td>\n",
       "      <td>1</td>\n",
       "      <td>0</td>\n",
       "      <td>1</td>\n",
       "      <td>0</td>\n",
       "      <td>1</td>\n",
       "      <td>0</td>\n",
       "      <td>0</td>\n",
       "    </tr>\n",
       "    <tr>\n",
       "      <th>21</th>\n",
       "      <td>0.487955</td>\n",
       "      <td>-0.798641</td>\n",
       "      <td>0.075226</td>\n",
       "      <td>0.272166</td>\n",
       "      <td>1</td>\n",
       "      <td>0</td>\n",
       "      <td>1</td>\n",
       "      <td>0</td>\n",
       "      <td>1</td>\n",
       "      <td>0</td>\n",
       "      <td>0</td>\n",
       "      <td>0</td>\n",
       "      <td>1</td>\n",
       "      <td>0</td>\n",
       "      <td>1</td>\n",
       "      <td>0</td>\n",
       "      <td>0</td>\n",
       "      <td>1</td>\n",
       "      <td>0</td>\n",
       "    </tr>\n",
       "    <tr>\n",
       "      <th>22</th>\n",
       "      <td>-0.829821</td>\n",
       "      <td>0.291415</td>\n",
       "      <td>-0.026242</td>\n",
       "      <td>0.272166</td>\n",
       "      <td>0</td>\n",
       "      <td>1</td>\n",
       "      <td>1</td>\n",
       "      <td>0</td>\n",
       "      <td>1</td>\n",
       "      <td>0</td>\n",
       "      <td>0</td>\n",
       "      <td>0</td>\n",
       "      <td>1</td>\n",
       "      <td>0</td>\n",
       "      <td>1</td>\n",
       "      <td>0</td>\n",
       "      <td>0</td>\n",
       "      <td>0</td>\n",
       "      <td>1</td>\n",
       "    </tr>\n",
       "    <tr>\n",
       "      <th>23</th>\n",
       "      <td>1.231718</td>\n",
       "      <td>-0.344106</td>\n",
       "      <td>1.005349</td>\n",
       "      <td>0.272166</td>\n",
       "      <td>1</td>\n",
       "      <td>0</td>\n",
       "      <td>0</td>\n",
       "      <td>1</td>\n",
       "      <td>1</td>\n",
       "      <td>0</td>\n",
       "      <td>0</td>\n",
       "      <td>0</td>\n",
       "      <td>1</td>\n",
       "      <td>0</td>\n",
       "      <td>1</td>\n",
       "      <td>0</td>\n",
       "      <td>0</td>\n",
       "      <td>1</td>\n",
       "      <td>0</td>\n",
       "    </tr>\n",
       "    <tr>\n",
       "      <th>24</th>\n",
       "      <td>-0.355094</td>\n",
       "      <td>-0.798641</td>\n",
       "      <td>-0.432113</td>\n",
       "      <td>0.272166</td>\n",
       "      <td>0</td>\n",
       "      <td>1</td>\n",
       "      <td>0</td>\n",
       "      <td>1</td>\n",
       "      <td>0</td>\n",
       "      <td>0</td>\n",
       "      <td>0</td>\n",
       "      <td>1</td>\n",
       "      <td>1</td>\n",
       "      <td>0</td>\n",
       "      <td>1</td>\n",
       "      <td>0</td>\n",
       "      <td>0</td>\n",
       "      <td>0</td>\n",
       "      <td>1</td>\n",
       "    </tr>\n",
       "    <tr>\n",
       "      <th>25</th>\n",
       "      <td>-0.725196</td>\n",
       "      <td>0.936245</td>\n",
       "      <td>-0.313734</td>\n",
       "      <td>0.272166</td>\n",
       "      <td>0</td>\n",
       "      <td>1</td>\n",
       "      <td>0</td>\n",
       "      <td>1</td>\n",
       "      <td>0</td>\n",
       "      <td>1</td>\n",
       "      <td>0</td>\n",
       "      <td>0</td>\n",
       "      <td>1</td>\n",
       "      <td>0</td>\n",
       "      <td>0</td>\n",
       "      <td>1</td>\n",
       "      <td>1</td>\n",
       "      <td>0</td>\n",
       "      <td>0</td>\n",
       "    </tr>\n",
       "    <tr>\n",
       "      <th>26</th>\n",
       "      <td>-0.631603</td>\n",
       "      <td>1.699491</td>\n",
       "      <td>0.278162</td>\n",
       "      <td>0.272166</td>\n",
       "      <td>0</td>\n",
       "      <td>1</td>\n",
       "      <td>0</td>\n",
       "      <td>1</td>\n",
       "      <td>1</td>\n",
       "      <td>0</td>\n",
       "      <td>0</td>\n",
       "      <td>0</td>\n",
       "      <td>1</td>\n",
       "      <td>0</td>\n",
       "      <td>0</td>\n",
       "      <td>1</td>\n",
       "      <td>0</td>\n",
       "      <td>1</td>\n",
       "      <td>0</td>\n",
       "    </tr>\n",
       "    <tr>\n",
       "      <th>27</th>\n",
       "      <td>-0.311678</td>\n",
       "      <td>-0.798641</td>\n",
       "      <td>-0.415202</td>\n",
       "      <td>0.272166</td>\n",
       "      <td>0</td>\n",
       "      <td>1</td>\n",
       "      <td>0</td>\n",
       "      <td>1</td>\n",
       "      <td>0</td>\n",
       "      <td>0</td>\n",
       "      <td>0</td>\n",
       "      <td>1</td>\n",
       "      <td>0</td>\n",
       "      <td>1</td>\n",
       "      <td>1</td>\n",
       "      <td>0</td>\n",
       "      <td>1</td>\n",
       "      <td>0</td>\n",
       "      <td>0</td>\n",
       "    </tr>\n",
       "    <tr>\n",
       "      <th>28</th>\n",
       "      <td>1.708935</td>\n",
       "      <td>-0.798641</td>\n",
       "      <td>-0.127710</td>\n",
       "      <td>0.272166</td>\n",
       "      <td>0</td>\n",
       "      <td>1</td>\n",
       "      <td>1</td>\n",
       "      <td>0</td>\n",
       "      <td>1</td>\n",
       "      <td>0</td>\n",
       "      <td>0</td>\n",
       "      <td>0</td>\n",
       "      <td>1</td>\n",
       "      <td>0</td>\n",
       "      <td>0</td>\n",
       "      <td>1</td>\n",
       "      <td>1</td>\n",
       "      <td>0</td>\n",
       "      <td>0</td>\n",
       "    </tr>\n",
       "  </tbody>\n",
       "</table>\n",
       "</div>"
      ],
      "text/plain": [
       "    ApplicantIncome  CoapplicantIncome  LoanAmount  Credit_History  \\\n",
       "0          3.286495          -0.798641    2.950151        0.272166   \n",
       "1         -0.082500          -0.798641   -1.108566       -3.674235   \n",
       "2         -1.102415           0.995712   -0.093887        0.272166   \n",
       "3         -0.823771          -0.798641   -1.311502        0.272166   \n",
       "4         -0.518081           0.433102    0.328896        0.272166   \n",
       "5          1.050581           1.284773    1.343575        0.272166   \n",
       "6         -0.100293          -0.281537   -1.277679        0.272166   \n",
       "7         -0.279294           1.031392    0.481098        0.272166   \n",
       "8          0.114651          -0.798641   -0.263000        0.272166   \n",
       "9         -0.112037           0.119219    0.565655        0.272166   \n",
       "10         0.084402           3.338195   -0.060064        0.272166   \n",
       "11        -0.608827          -0.798641   -0.939453        0.272166   \n",
       "12        -0.471463          -0.798641   -0.601227        0.272166   \n",
       "13        -0.141574          -0.798641   -0.381379        0.272166   \n",
       "14        -0.465769           0.752155   -0.093887        0.272166   \n",
       "15         2.310351          -0.798641    2.611924        0.272166   \n",
       "16        -0.433385           0.426897   -0.432113       -3.674235   \n",
       "17        -0.023070          -0.798641    0.447275        0.272166   \n",
       "18        -0.587475           0.472402    0.210517        0.272166   \n",
       "19        -1.147610           0.025623   -1.311502        0.272166   \n",
       "20        -0.524131          -0.798641   -1.108566        0.272166   \n",
       "21         0.487955          -0.798641    0.075226        0.272166   \n",
       "22        -0.829821           0.291415   -0.026242        0.272166   \n",
       "23         1.231718          -0.344106    1.005349        0.272166   \n",
       "24        -0.355094          -0.798641   -0.432113        0.272166   \n",
       "25        -0.725196           0.936245   -0.313734        0.272166   \n",
       "26        -0.631603           1.699491    0.278162        0.272166   \n",
       "27        -0.311678          -0.798641   -0.415202        0.272166   \n",
       "28         1.708935          -0.798641   -0.127710        0.272166   \n",
       "\n",
       "    Gender_Female  Gender_Male  Married_No  Married_Yes  Dependents_0  \\\n",
       "0               0            1           0            1             0   \n",
       "1               0            1           1            0             0   \n",
       "2               0            1           1            0             1   \n",
       "3               1            0           1            0             0   \n",
       "4               0            1           1            0             1   \n",
       "5               0            1           0            1             0   \n",
       "6               0            1           0            1             0   \n",
       "7               0            1           0            1             0   \n",
       "8               0            1           0            1             0   \n",
       "9               0            1           0            1             0   \n",
       "10              0            1           0            1             0   \n",
       "11              0            1           0            1             0   \n",
       "12              0            1           1            0             1   \n",
       "13              0            1           1            0             1   \n",
       "14              0            1           0            1             0   \n",
       "15              0            1           0            1             0   \n",
       "16              0            1           1            0             0   \n",
       "17              1            0           0            1             0   \n",
       "18              0            1           0            1             1   \n",
       "19              0            1           0            1             1   \n",
       "20              0            1           1            0             1   \n",
       "21              1            0           1            0             1   \n",
       "22              0            1           1            0             1   \n",
       "23              1            0           0            1             1   \n",
       "24              0            1           0            1             0   \n",
       "25              0            1           0            1             0   \n",
       "26              0            1           0            1             1   \n",
       "27              0            1           0            1             0   \n",
       "28              0            1           1            0             1   \n",
       "\n",
       "    Dependents_1  Dependents_2  Dependents_3+  Education_Graduate  \\\n",
       "0              0             1              0                   1   \n",
       "1              0             0              1                   1   \n",
       "2              0             0              0                   1   \n",
       "3              0             0              1                   0   \n",
       "4              0             0              0                   1   \n",
       "5              0             1              0                   1   \n",
       "6              0             1              0                   1   \n",
       "7              0             1              0                   1   \n",
       "8              0             0              1                   1   \n",
       "9              1             0              0                   1   \n",
       "10             0             1              0                   1   \n",
       "11             0             1              0                   0   \n",
       "12             0             0              0                   1   \n",
       "13             0             0              0                   1   \n",
       "14             0             0              1                   1   \n",
       "15             0             1              0                   1   \n",
       "16             1             0              0                   1   \n",
       "17             1             0              0                   1   \n",
       "18             0             0              0                   0   \n",
       "19             0             0              0                   1   \n",
       "20             0             0              0                   1   \n",
       "21             0             0              0                   1   \n",
       "22             0             0              0                   1   \n",
       "23             0             0              0                   1   \n",
       "24             0             0              1                   1   \n",
       "25             1             0              0                   1   \n",
       "26             0             0              0                   1   \n",
       "27             0             0              1                   0   \n",
       "28             0             0              0                   1   \n",
       "\n",
       "    Education_Not Graduate  Self_Employed_No  Self_Employed_Yes  \\\n",
       "0                        0                 1                  0   \n",
       "1                        0                 1                  0   \n",
       "2                        0                 1                  0   \n",
       "3                        1                 1                  0   \n",
       "4                        0                 1                  0   \n",
       "5                        0                 1                  0   \n",
       "6                        0                 1                  0   \n",
       "7                        0                 1                  0   \n",
       "8                        0                 1                  0   \n",
       "9                        0                 1                  0   \n",
       "10                       0                 1                  0   \n",
       "11                       1                 1                  0   \n",
       "12                       0                 1                  0   \n",
       "13                       0                 1                  0   \n",
       "14                       0                 1                  0   \n",
       "15                       0                 0                  1   \n",
       "16                       0                 1                  0   \n",
       "17                       0                 1                  0   \n",
       "18                       1                 1                  0   \n",
       "19                       0                 1                  0   \n",
       "20                       0                 1                  0   \n",
       "21                       0                 1                  0   \n",
       "22                       0                 1                  0   \n",
       "23                       0                 1                  0   \n",
       "24                       0                 1                  0   \n",
       "25                       0                 0                  1   \n",
       "26                       0                 0                  1   \n",
       "27                       1                 1                  0   \n",
       "28                       0                 0                  1   \n",
       "\n",
       "    Property_Area_Rural  Property_Area_Semiurban  Property_Area_Urban  \n",
       "0                     0                        0                    1  \n",
       "1                     0                        0                    1  \n",
       "2                     0                        1                    0  \n",
       "3                     0                        0                    1  \n",
       "4                     0                        0                    1  \n",
       "5                     0                        0                    1  \n",
       "6                     0                        0                    1  \n",
       "7                     0                        1                    0  \n",
       "8                     0                        1                    0  \n",
       "9                     0                        0                    1  \n",
       "10                    1                        0                    0  \n",
       "11                    1                        0                    0  \n",
       "12                    0                        0                    1  \n",
       "13                    0                        0                    1  \n",
       "14                    1                        0                    0  \n",
       "15                    1                        0                    0  \n",
       "16                    1                        0                    0  \n",
       "17                    1                        0                    0  \n",
       "18                    0                        1                    0  \n",
       "19                    1                        0                    0  \n",
       "20                    1                        0                    0  \n",
       "21                    0                        1                    0  \n",
       "22                    0                        0                    1  \n",
       "23                    0                        1                    0  \n",
       "24                    0                        0                    1  \n",
       "25                    1                        0                    0  \n",
       "26                    0                        1                    0  \n",
       "27                    1                        0                    0  \n",
       "28                    1                        0                    0  "
      ]
     },
     "execution_count": 92,
     "metadata": {},
     "output_type": "execute_result"
    }
   ],
   "source": [
    "replacer(Data_for_pred_final) # missing data treatment \n",
    "finaldata_for_pred = preprocessing(Data_for_pred_final) # preprocessing\n",
    "finaldata_for_pred # people with approved loan for less = 20"
   ]
  },
  {
   "cell_type": "code",
   "execution_count": 93,
   "id": "ea083df0",
   "metadata": {},
   "outputs": [
    {
     "data": {
      "text/plain": [
       "array([[320.42245821],\n",
       "       [303.8502644 ],\n",
       "       [371.39975742],\n",
       "       [331.20934354],\n",
       "       [352.41188862],\n",
       "       [327.8130921 ],\n",
       "       [312.09133831],\n",
       "       [352.23195068],\n",
       "       [335.86595001],\n",
       "       [332.1535083 ],\n",
       "       [335.26520921],\n",
       "       [331.47999195],\n",
       "       [341.5054192 ],\n",
       "       [339.8408881 ],\n",
       "       [341.41058912],\n",
       "       [342.08979093],\n",
       "       [331.18025633],\n",
       "       [352.94853305],\n",
       "       [350.07088508],\n",
       "       [343.21045819],\n",
       "       [350.35805259],\n",
       "       [362.12508122],\n",
       "       [352.29365086],\n",
       "       [351.30323148],\n",
       "       [322.93451216],\n",
       "       [341.17745378],\n",
       "       [355.20319721],\n",
       "       [330.25795921],\n",
       "       [330.97707037]])"
      ]
     },
     "execution_count": 93,
     "metadata": {},
     "output_type": "execute_result"
    }
   ],
   "source": [
    "model = lm.fit(xtrain,ytrain)\n",
    "pred = model.predict(finaldata_for_pred)\n",
    "pred"
   ]
  },
  {
   "cell_type": "code",
   "execution_count": 94,
   "id": "a9ff6a99",
   "metadata": {},
   "outputs": [
    {
     "data": {
      "text/plain": [
       "array([[26.70187152],\n",
       "       [25.32085537],\n",
       "       [30.94997979],\n",
       "       [27.60077863],\n",
       "       [29.36765738],\n",
       "       [27.31775767],\n",
       "       [26.00761153],\n",
       "       [29.35266256],\n",
       "       [27.98882917],\n",
       "       [27.67945903],\n",
       "       [27.93876743],\n",
       "       [27.62333266],\n",
       "       [28.45878493],\n",
       "       [28.32007401],\n",
       "       [28.45088243],\n",
       "       [28.50748258],\n",
       "       [27.59835469],\n",
       "       [29.41237775],\n",
       "       [29.17257376],\n",
       "       [28.60087152],\n",
       "       [29.19650438],\n",
       "       [30.1770901 ],\n",
       "       [29.35780424],\n",
       "       [29.27526929],\n",
       "       [26.91120935],\n",
       "       [28.43145448],\n",
       "       [29.60026643],\n",
       "       [27.5214966 ],\n",
       "       [27.58142253]])"
      ]
     },
     "execution_count": 94,
     "metadata": {},
     "output_type": "execute_result"
    }
   ],
   "source": [
    "pred/12"
   ]
  },
  {
   "cell_type": "code",
   "execution_count": 95,
   "id": "3a9dc095",
   "metadata": {},
   "outputs": [],
   "source": [
    "U = B[(B.Duration<=20)&(B.Loan_Status==\"Y\")][[\"Loan_Amount_Term\"]]\n",
    "U.index = range(0,U.shape[0])"
   ]
  },
  {
   "cell_type": "code",
   "execution_count": 96,
   "id": "63fc0fa8",
   "metadata": {},
   "outputs": [
    {
     "data": {
      "text/plain": [
       "(29, 1)"
      ]
     },
     "execution_count": 96,
     "metadata": {},
     "output_type": "execute_result"
    }
   ],
   "source": [
    "U.shape"
   ]
  },
  {
   "cell_type": "code",
   "execution_count": 97,
   "id": "2bf7269b",
   "metadata": {},
   "outputs": [
    {
     "data": {
      "text/plain": [
       "[<matplotlib.lines.Line2D at 0x28e03bc5310>]"
      ]
     },
     "execution_count": 97,
     "metadata": {},
     "output_type": "execute_result"
    },
    {
     "data": {
      "image/png": "[encoded data removed]",
      "text/plain": [
       "<Figure size 432x288 with 1 Axes>"
      ]
     },
     "metadata": {
      "needs_background": "light"
     },
     "output_type": "display_data"
    }
   ],
   "source": [
    "plt.plot(U/12,c=\"red\") # Actual Loan_Amount term in years\n",
    "plt.plot(pred/12,c=\"blue\") # predictions for Duration less than = 20 years"
   ]
  },
  {
   "cell_type": "code",
   "execution_count": 98,
   "id": "5e6f484a",
   "metadata": {},
   "outputs": [],
   "source": [
    "Duration = U/12"
   ]
  },
  {
   "cell_type": "code",
   "execution_count": 99,
   "id": "98371453",
   "metadata": {},
   "outputs": [
    {
     "data": {
      "text/plain": [
       "array([[26.70187152],\n",
       "       [25.32085537],\n",
       "       [30.94997979],\n",
       "       [27.60077863],\n",
       "       [29.36765738],\n",
       "       [27.31775767],\n",
       "       [26.00761153],\n",
       "       [29.35266256],\n",
       "       [27.98882917],\n",
       "       [27.67945903],\n",
       "       [27.93876743],\n",
       "       [27.62333266],\n",
       "       [28.45878493],\n",
       "       [28.32007401],\n",
       "       [28.45088243],\n",
       "       [28.50748258],\n",
       "       [27.59835469],\n",
       "       [29.41237775],\n",
       "       [29.17257376],\n",
       "       [28.60087152],\n",
       "       [29.19650438],\n",
       "       [30.1770901 ],\n",
       "       [29.35780424],\n",
       "       [29.27526929],\n",
       "       [26.91120935],\n",
       "       [28.43145448],\n",
       "       [29.60026643],\n",
       "       [27.5214966 ],\n",
       "       [27.58142253]])"
      ]
     },
     "execution_count": 99,
     "metadata": {},
     "output_type": "execute_result"
    }
   ],
   "source": [
    "(pred/12)"
   ]
  },
  {
   "cell_type": "code",
   "execution_count": 100,
   "id": "5378e5d9",
   "metadata": {},
   "outputs": [],
   "source": [
    "U['predicted_Amt_term']=pred"
   ]
  },
  {
   "cell_type": "code",
   "execution_count": 101,
   "id": "3e35ee72",
   "metadata": {},
   "outputs": [],
   "source": [
    "U['pred_Amt_years']=pred/12"
   ]
  },
  {
   "cell_type": "code",
   "execution_count": 102,
   "id": "91e2ac95",
   "metadata": {},
   "outputs": [],
   "source": [
    "U['Original_duration']=Duration"
   ]
  },
  {
   "cell_type": "code",
   "execution_count": 104,
   "id": "6dfc965e",
   "metadata": {},
   "outputs": [
    {
     "data": {
      "text/html": [
       "<div>\n",
       "<style scoped>\n",
       "    .dataframe tbody tr th:only-of-type {\n",
       "        vertical-align: middle;\n",
       "    }\n",
       "\n",
       "    .dataframe tbody tr th {\n",
       "        vertical-align: top;\n",
       "    }\n",
       "\n",
       "    .dataframe thead th {\n",
       "        text-align: right;\n",
       "    }\n",
       "</style>\n",
       "<table border=\"1\" class=\"dataframe\">\n",
       "  <thead>\n",
       "    <tr style=\"text-align: right;\">\n",
       "      <th></th>\n",
       "      <th>Loan_Amount_Term</th>\n",
       "      <th>predicted_Amt_term</th>\n",
       "      <th>pred_Amt_years</th>\n",
       "      <th>Original_duration</th>\n",
       "    </tr>\n",
       "  </thead>\n",
       "  <tbody>\n",
       "    <tr>\n",
       "      <th>0</th>\n",
       "      <td>240.0</td>\n",
       "      <td>320.422458</td>\n",
       "      <td>26.701872</td>\n",
       "      <td>20.0</td>\n",
       "    </tr>\n",
       "    <tr>\n",
       "      <th>1</th>\n",
       "      <td>180.0</td>\n",
       "      <td>303.850264</td>\n",
       "      <td>25.320855</td>\n",
       "      <td>15.0</td>\n",
       "    </tr>\n",
       "  </tbody>\n",
       "</table>\n",
       "</div>"
      ],
      "text/plain": [
       "   Loan_Amount_Term  predicted_Amt_term  pred_Amt_years  Original_duration\n",
       "0             240.0          320.422458       26.701872               20.0\n",
       "1             180.0          303.850264       25.320855               15.0"
      ]
     },
     "execution_count": 104,
     "metadata": {},
     "output_type": "execute_result"
    }
   ],
   "source": [
    "U.head(2)"
   ]
  },
  {
   "cell_type": "code",
   "execution_count": 105,
   "id": "7f82259c",
   "metadata": {},
   "outputs": [],
   "source": [
    "U.to_csv(\"New_Loan_Amount_term_for_yes_people.csv\")"
   ]
  },
  {
   "cell_type": "code",
   "execution_count": null,
   "id": "442affca",
   "metadata": {},
   "outputs": [],
   "source": []
  }
 ],
 "metadata": {
  "kernelspec": {
   "display_name": "Python 3",
   "language": "python",
   "name": "python3"
  },
  "language_info": {
   "codemirror_mode": {
    "name": "ipython",
    "version": 3
   },
   "file_extension": ".py",
   "mimetype": "text/x-python",
   "name": "python",
   "nbconvert_exporter": "python",
   "pygments_lexer": "ipython3",
   "version": "3.8.8"
  }
 },
 "nbformat": 4,
 "nbformat_minor": 5
}
